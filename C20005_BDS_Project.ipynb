{
  "nbformat": 4,
  "nbformat_minor": 0,
  "metadata": {
    "colab": {
      "name": "C20005_BDS_Project.ipynb",
      "provenance": [],
      "collapsed_sections": [
        "ugbenrFD5wAq",
        "QNT3bbGn6vTw",
        "vAuYhxANuuPl",
        "2kKdohA_8f4Q",
        "3cQU5Y7il8bH",
        "QDX8gMqubsZq",
        "z-y-ZcV3vcAg",
        "YHliJ0AGpHOB",
        "meNYm5VVIVDk"
      ],
      "toc_visible": true
    },
    "kernelspec": {
      "name": "python3",
      "display_name": "Python 3"
    }
  },
  "cells": [
    {
      "cell_type": "markdown",
      "metadata": {
        "id": "fCYZF8D840_r",
        "colab_type": "text"
      },
      "source": [
        "\n",
        "\n",
        "---\n",
        "\n",
        "\n",
        "\n",
        "\n",
        "---\n",
        "\n",
        "\n",
        "\n",
        "\n",
        "![picture](https://i.ibb.co/LJ8y7dc/bds-banner.png)\n",
        "\n",
        "\n",
        "\n",
        "---\n",
        "\n",
        "\n",
        "\n",
        "---\n",
        "\n"
      ]
    },
    {
      "cell_type": "markdown",
      "metadata": {
        "id": "AYuO0tamjWPx",
        "colab_type": "text"
      },
      "source": [
        "**[Summary Link](https://docs.google.com/document/d/1SzfgMYKljHrZhEYt3xxOaxkHIdYaQo8USy-Z1glXyzQ/edit?usp=sharing)**\n",
        "\n",
        "**[Slide Deck Link](https://docs.google.com/presentation/d/1hyKoFc4Ejmp0SKVgX1DjLMUyONqiXWa0eQogl8XGnk0/edit?usp=sharing)**"
      ]
    },
    {
      "cell_type": "markdown",
      "metadata": {
        "id": "ugbenrFD5wAq",
        "colab_type": "text"
      },
      "source": [
        "# 1. Business Problem:\n"
      ]
    },
    {
      "cell_type": "markdown",
      "metadata": {
        "id": "JhmYnWzM-e5O",
        "colab_type": "text"
      },
      "source": [
        "\n",
        "**To understand Employee Attrition**"
      ]
    },
    {
      "cell_type": "markdown",
      "metadata": {
        "id": "QNT3bbGn6vTw",
        "colab_type": "text"
      },
      "source": [
        "# 2. Data Description:"
      ]
    },
    {
      "cell_type": "markdown",
      "metadata": {
        "id": "zzPlz2xv-i6L",
        "colab_type": "text"
      },
      "source": [
        "**Data Source :** [Kaggle](https://www.kaggle.com/dineshsagar66/hr-analytics-people-management)\n",
        "\n",
        "The data has 14999 rows & 10 columns. Each row is for a different employee.\n",
        "\n",
        "**Column Details :**\n",
        "\n",
        "satisfaction_level: Satisfaction level score between 0 and 1\n",
        "\n",
        "last_evaluation: Last evaluation score given to the employee\n",
        "\n",
        "number_project: Number of projects worked on per year\n",
        "\n",
        "average_montly_hours: Average monthly working hours\n",
        "\n",
        "time_spend_company: Time spent in the company in years\n",
        "\n",
        "Work_accident: Whether they have had a work accident in the last 2 years\n",
        "\n",
        "promotion_last_5years: Whether they have had a promotion in the last 5 years\n",
        "\n",
        "department: Department the employee is working in\n",
        "\n",
        "salary: salary of the employee (low, medium, high)\n",
        "\n",
        "left: Whether the employee has left or is still working"
      ]
    },
    {
      "cell_type": "markdown",
      "metadata": {
        "id": "vAuYhxANuuPl",
        "colab_type": "text"
      },
      "source": [
        "# 3. Spark Set-Up:"
      ]
    },
    {
      "cell_type": "code",
      "metadata": {
        "id": "K5zJI-m2Ju_g",
        "colab_type": "code",
        "colab": {
          "base_uri": "https://localhost:8080/",
          "height": 221
        },
        "outputId": "bbe66db1-69c2-448f-a79b-6a89aeae4f77"
      },
      "source": [
        "!apt-get update \n",
        "!apt-get install openjdk-8-jdk-headless -qq > /dev/null\n",
        "\n",
        "!wget -q http://apache.osuosl.org/spark/spark-3.0.0/spark-3.0.0-bin-hadoop2.7.tgz\n",
        "\n",
        "!tar xf spark-3.0.0-bin-hadoop2.7.tgz \n",
        "!pip install -q findspark\n",
        "\n",
        "import os\n",
        "os.environ[\"JAVA_HOME\"] = \"/usr/lib/jvm/java-8-openjdk-amd64\"\n",
        "os.environ[\"SPARK_HOME\"] = \"/content/spark-3.0.0-bin-hadoop2.7\"\n",
        "\n",
        "import findspark\n",
        "findspark.init()\n",
        "\n",
        "from pyspark.sql import SparkSession\n",
        "spark = SparkSession.builder.master(\"local[*]\").getOrCreate()\n",
        "sc = spark.sparkContext"
      ],
      "execution_count": null,
      "outputs": [
        {
          "output_type": "stream",
          "text": [
            "\r0% [Working]\r            \rHit:1 https://cloud.r-project.org/bin/linux/ubuntu bionic-cran35/ InRelease\n",
            "\r0% [Connecting to archive.ubuntu.com] [Connecting to security.ubuntu.com (91.18\r0% [1 InRelease gpgv 3,626 B] [Connecting to archive.ubuntu.com] [Connecting to\r                                                                               \rIgn:2 https://developer.download.nvidia.com/compute/cuda/repos/ubuntu1804/x86_64  InRelease\n",
            "\r0% [1 InRelease gpgv 3,626 B] [Connecting to archive.ubuntu.com] [Connecting to\r                                                                               \rIgn:3 https://developer.download.nvidia.com/compute/machine-learning/repos/ubuntu1804/x86_64  InRelease\n",
            "\r0% [1 InRelease gpgv 3,626 B] [Connecting to archive.ubuntu.com] [Connecting to\r                                                                               \rHit:4 https://developer.download.nvidia.com/compute/cuda/repos/ubuntu1804/x86_64  Release\n",
            "Hit:5 https://developer.download.nvidia.com/compute/machine-learning/repos/ubuntu1804/x86_64  Release\n",
            "Hit:6 http://security.ubuntu.com/ubuntu bionic-security InRelease\n",
            "Hit:7 http://ppa.launchpad.net/graphics-drivers/ppa/ubuntu bionic InRelease\n",
            "Hit:8 http://archive.ubuntu.com/ubuntu bionic InRelease\n",
            "Hit:10 http://archive.ubuntu.com/ubuntu bionic-updates InRelease\n",
            "Hit:11 http://ppa.launchpad.net/marutter/c2d4u3.5/ubuntu bionic InRelease\n",
            "Hit:12 http://archive.ubuntu.com/ubuntu bionic-backports InRelease\n",
            "Reading package lists... Done\n"
          ],
          "name": "stdout"
        }
      ]
    },
    {
      "cell_type": "markdown",
      "metadata": {
        "id": "uQ0lptuiv50t",
        "colab_type": "text"
      },
      "source": [
        "**Explanation :**\n",
        "\n",
        "The latest version of spark is getting downloaded and installed in this colab machine"
      ]
    },
    {
      "cell_type": "markdown",
      "metadata": {
        "id": "2kKdohA_8f4Q",
        "colab_type": "text"
      },
      "source": [
        "# 4. Data Loading:"
      ]
    },
    {
      "cell_type": "code",
      "metadata": {
        "id": "dCoeKA6ANlLD",
        "colab_type": "code",
        "colab": {
          "resources": {
            "http://localhost:8080/nbextensions/google.colab/files.js": {
              "data": "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",
              "ok": true,
              "headers": [
                [
                  "content-type",
                  "application/javascript"
                ]
              ],
              "status": 200,
              "status_text": ""
            }
          },
          "base_uri": "https://localhost:8080/",
          "height": 106
        },
        "outputId": "1b19049c-29a9-4d38-d5c9-e44d1ffe314c"
      },
      "source": [
        "from google.colab import files\n",
        "data_to_load = files.upload()"
      ],
      "execution_count": null,
      "outputs": [
        {
          "output_type": "display_data",
          "data": {
            "text/html": [
              "\n",
              "     <input type=\"file\" id=\"files-32e2dc65-544c-40fd-9028-34a9f64dffd7\" name=\"files[]\" multiple disabled\n",
              "        style=\"border:none\" />\n",
              "     <output id=\"result-32e2dc65-544c-40fd-9028-34a9f64dffd7\">\n",
              "      Upload widget is only available when the cell has been executed in the\n",
              "      current browser session. Please rerun this cell to enable.\n",
              "      </output>\n",
              "      <script src=\"/nbextensions/google.colab/files.js\"></script> "
            ],
            "text/plain": [
              "<IPython.core.display.HTML object>"
            ]
          },
          "metadata": {
            "tags": []
          }
        },
        {
          "output_type": "stream",
          "text": [
            "Saving employee_data.csv to employee_data.csv\n",
            "Saving employee_headers.csv to employee_headers.csv\n"
          ],
          "name": "stdout"
        }
      ]
    },
    {
      "cell_type": "markdown",
      "metadata": {
        "id": "9yl0mJrYwGX3",
        "colab_type": "text"
      },
      "source": [
        "**Explanation :**\n",
        "\n",
        "Uploading data files to colab from local machine"
      ]
    },
    {
      "cell_type": "code",
      "metadata": {
        "id": "Eqf-ow4dOC0g",
        "colab_type": "code",
        "colab": {}
      },
      "source": [
        "raw_data = sc.textFile('employee_data.csv')\n",
        "headers = sc.textFile('employee_headers.csv')"
      ],
      "execution_count": null,
      "outputs": []
    },
    {
      "cell_type": "markdown",
      "metadata": {
        "id": "d3kWtVmLwSGg",
        "colab_type": "text"
      },
      "source": [
        "**Explanation :**\n",
        "\n",
        "1. Storing the data as a rdd to variable 'raw_data'\n",
        "\n",
        "2. Storing the header names to variable 'headers'"
      ]
    },
    {
      "cell_type": "code",
      "metadata": {
        "id": "pHqPOeNkOj-y",
        "colab_type": "code",
        "colab": {
          "base_uri": "https://localhost:8080/",
          "height": 102
        },
        "outputId": "86df6eaa-1f5a-4cde-8a92-f435df4efad1"
      },
      "source": [
        "raw_data.take(5)"
      ],
      "execution_count": null,
      "outputs": [
        {
          "output_type": "execute_result",
          "data": {
            "text/plain": [
              "['0.41,0.46,2,128,3,0,0,accounting,low,1',\n",
              " '0.65,0.76,4,171,4,0,0,technical,low,0',\n",
              " '0.94,0.52,3,273,3,0,0,product_mng,high,0',\n",
              " '0.92,0.99,4,245,4,0,0,IT,medium,0',\n",
              " '0.43,0.46,2,126,3,0,0,sales,medium,1']"
            ]
          },
          "metadata": {
            "tags": []
          },
          "execution_count": 7
        }
      ]
    },
    {
      "cell_type": "markdown",
      "metadata": {
        "id": "mjynOCdUwpB3",
        "colab_type": "text"
      },
      "source": [
        "**Explanation :**\n",
        "\n",
        "Having a look at the first 5 data rows"
      ]
    },
    {
      "cell_type": "code",
      "metadata": {
        "id": "Y8YNDo8ROm_d",
        "colab_type": "code",
        "colab": {
          "base_uri": "https://localhost:8080/",
          "height": 54
        },
        "outputId": "1e89994e-65ab-4ae4-fd7a-12a3fea67410"
      },
      "source": [
        "headers.collect()"
      ],
      "execution_count": null,
      "outputs": [
        {
          "output_type": "execute_result",
          "data": {
            "text/plain": [
              "['satisfaction_level,last_evaluation,number_project,average_montly_hours,time_spend_company,Work_accident,promotion_last_5years,department,salary,left']"
            ]
          },
          "metadata": {
            "tags": []
          },
          "execution_count": 8
        }
      ]
    },
    {
      "cell_type": "markdown",
      "metadata": {
        "id": "92cLgJtxw8lp",
        "colab_type": "text"
      },
      "source": [
        "**Explanation :**\n",
        "\n",
        "Having a look at the header names"
      ]
    },
    {
      "cell_type": "markdown",
      "metadata": {
        "id": "3cQU5Y7il8bH",
        "colab_type": "text"
      },
      "source": [
        "# 5. Exploratory Data Analysis:"
      ]
    },
    {
      "cell_type": "markdown",
      "metadata": {
        "id": "1gUBPyLRPh1n",
        "colab_type": "text"
      },
      "source": [
        "## 5.a. Data Preparation for doing Statistical Analysis:"
      ]
    },
    {
      "cell_type": "code",
      "metadata": {
        "id": "0uvualUzm7k4",
        "colab_type": "code",
        "colab": {}
      },
      "source": [
        "data = raw_data.map(lambda x: x.split(\",\"))\n",
        "\n",
        "departments = data.map(lambda x: x[7]).distinct().collect()\n",
        "salary = data.map(lambda x: x[8]).distinct().collect()"
      ],
      "execution_count": null,
      "outputs": []
    },
    {
      "cell_type": "markdown",
      "metadata": {
        "id": "dxQX5oxZT3_l",
        "colab_type": "text"
      },
      "source": [
        "**Explanation :**\n",
        "\n",
        "Since 'departments' and 'salary' are categorical, the distinct values of these features are stored separately which will be used for Label Encoding\n"
      ]
    },
    {
      "cell_type": "code",
      "metadata": {
        "id": "_9rr_YJZlzHD",
        "colab_type": "code",
        "colab": {}
      },
      "source": [
        "import numpy as np\n",
        "\n",
        "def parse_interaction(line):\n",
        "    \n",
        "    # Label Encoding 'salary' since low, medium, high is in an order which can be replaced by 0, 1, 2 respectively \n",
        "    try:\n",
        "        line[8] = salary.index(line[8])\n",
        "    except:\n",
        "        line[8] = len(salary)\n",
        "    \n",
        "    # 7th index is department which is categorical, hence not including it\n",
        "    clean_line = [item for i,item in enumerate(line) if i not in [7]]\n",
        "\n",
        "    return np.array([float(x) for x in clean_line])\n",
        "\n",
        "numeric_data = data.map(parse_interaction)"
      ],
      "execution_count": null,
      "outputs": []
    },
    {
      "cell_type": "markdown",
      "metadata": {
        "id": "TPwrbmXuydJG",
        "colab_type": "text"
      },
      "source": [
        "**Explanation :**\n",
        "1. First imported the library numpy as numpy arrray will be used.\n",
        "\n",
        "2. The salary feature has been Label Encoded, since 'low', 'medium', 'high' is in an order which can be replaced by 0, 1, 2 respectively and we can further perform statistics on this feature as well.\n",
        "\n",
        "3. This function will finally return an array with all the numeric features, including label encoded converted salary, as an numpy array. The department feature is excluded .\n",
        "\n",
        "4. At the end, the data is being mapped with the created function and it is stored in 'numeric_data'."
      ]
    },
    {
      "cell_type": "markdown",
      "metadata": {
        "id": "7HKitEHAPwk1",
        "colab_type": "text"
      },
      "source": [
        "## 5.b. Correlation Analysis: "
      ]
    },
    {
      "cell_type": "code",
      "metadata": {
        "id": "wiSgEcPJtNsR",
        "colab_type": "code",
        "colab": {
          "base_uri": "https://localhost:8080/",
          "height": 382
        },
        "outputId": "73a65649-02c8-4440-f600-77a5e3318e30"
      },
      "source": [
        "import pandas as pd\n",
        "from pyspark.mllib.stat import Statistics\n",
        "\n",
        "correlation_matrix = Statistics.corr(numeric_data, method=\"pearson\")\n",
        "\n",
        "\n",
        "col_names = ['satisfaction_level','last_evaluation','number_project','average_montly_hours', \\\n",
        "              'time_spend_company','Work_accident','promotion_last_5years','salary','left']\n",
        "\n",
        "corr_df = pd.DataFrame(correlation_matrix, index=col_names, columns=col_names)\n",
        "\n",
        "print('Correlation among  the variables taking the complete data : \\n')\n",
        "\n",
        "corr_df"
      ],
      "execution_count": null,
      "outputs": [
        {
          "output_type": "stream",
          "text": [
            "Correlation among  the variables taking the complete data : \n",
            "\n"
          ],
          "name": "stdout"
        },
        {
          "output_type": "execute_result",
          "data": {
            "text/html": [
              "<div>\n",
              "<style scoped>\n",
              "    .dataframe tbody tr th:only-of-type {\n",
              "        vertical-align: middle;\n",
              "    }\n",
              "\n",
              "    .dataframe tbody tr th {\n",
              "        vertical-align: top;\n",
              "    }\n",
              "\n",
              "    .dataframe thead th {\n",
              "        text-align: right;\n",
              "    }\n",
              "</style>\n",
              "<table border=\"1\" class=\"dataframe\">\n",
              "  <thead>\n",
              "    <tr style=\"text-align: right;\">\n",
              "      <th></th>\n",
              "      <th>satisfaction_level</th>\n",
              "      <th>last_evaluation</th>\n",
              "      <th>number_project</th>\n",
              "      <th>average_montly_hours</th>\n",
              "      <th>time_spend_company</th>\n",
              "      <th>Work_accident</th>\n",
              "      <th>promotion_last_5years</th>\n",
              "      <th>salary</th>\n",
              "      <th>left</th>\n",
              "    </tr>\n",
              "  </thead>\n",
              "  <tbody>\n",
              "    <tr>\n",
              "      <th>satisfaction_level</th>\n",
              "      <td>1.000000</td>\n",
              "      <td>0.105021</td>\n",
              "      <td>-0.142970</td>\n",
              "      <td>-0.020048</td>\n",
              "      <td>-0.100866</td>\n",
              "      <td>0.058697</td>\n",
              "      <td>0.025605</td>\n",
              "      <td>0.041029</td>\n",
              "      <td>-0.388375</td>\n",
              "    </tr>\n",
              "    <tr>\n",
              "      <th>last_evaluation</th>\n",
              "      <td>0.105021</td>\n",
              "      <td>1.000000</td>\n",
              "      <td>0.349333</td>\n",
              "      <td>0.339742</td>\n",
              "      <td>0.131591</td>\n",
              "      <td>-0.007104</td>\n",
              "      <td>-0.008684</td>\n",
              "      <td>0.000476</td>\n",
              "      <td>0.006567</td>\n",
              "    </tr>\n",
              "    <tr>\n",
              "      <th>number_project</th>\n",
              "      <td>-0.142970</td>\n",
              "      <td>0.349333</td>\n",
              "      <td>1.000000</td>\n",
              "      <td>0.417211</td>\n",
              "      <td>0.196786</td>\n",
              "      <td>-0.004741</td>\n",
              "      <td>-0.006064</td>\n",
              "      <td>0.005129</td>\n",
              "      <td>0.023787</td>\n",
              "    </tr>\n",
              "    <tr>\n",
              "      <th>average_montly_hours</th>\n",
              "      <td>-0.020048</td>\n",
              "      <td>0.339742</td>\n",
              "      <td>0.417211</td>\n",
              "      <td>1.000000</td>\n",
              "      <td>0.127755</td>\n",
              "      <td>-0.010143</td>\n",
              "      <td>-0.003544</td>\n",
              "      <td>0.003141</td>\n",
              "      <td>0.071287</td>\n",
              "    </tr>\n",
              "    <tr>\n",
              "      <th>time_spend_company</th>\n",
              "      <td>-0.100866</td>\n",
              "      <td>0.131591</td>\n",
              "      <td>0.196786</td>\n",
              "      <td>0.127755</td>\n",
              "      <td>1.000000</td>\n",
              "      <td>0.002120</td>\n",
              "      <td>0.067433</td>\n",
              "      <td>0.030444</td>\n",
              "      <td>0.144822</td>\n",
              "    </tr>\n",
              "    <tr>\n",
              "      <th>Work_accident</th>\n",
              "      <td>0.058697</td>\n",
              "      <td>-0.007104</td>\n",
              "      <td>-0.004741</td>\n",
              "      <td>-0.010143</td>\n",
              "      <td>0.002120</td>\n",
              "      <td>1.000000</td>\n",
              "      <td>0.039245</td>\n",
              "      <td>0.004522</td>\n",
              "      <td>-0.154622</td>\n",
              "    </tr>\n",
              "    <tr>\n",
              "      <th>promotion_last_5years</th>\n",
              "      <td>0.025605</td>\n",
              "      <td>-0.008684</td>\n",
              "      <td>-0.006064</td>\n",
              "      <td>-0.003544</td>\n",
              "      <td>0.067433</td>\n",
              "      <td>0.039245</td>\n",
              "      <td>1.000000</td>\n",
              "      <td>0.064524</td>\n",
              "      <td>-0.061788</td>\n",
              "    </tr>\n",
              "    <tr>\n",
              "      <th>salary</th>\n",
              "      <td>0.041029</td>\n",
              "      <td>0.000476</td>\n",
              "      <td>0.005129</td>\n",
              "      <td>0.003141</td>\n",
              "      <td>0.030444</td>\n",
              "      <td>0.004522</td>\n",
              "      <td>0.064524</td>\n",
              "      <td>1.000000</td>\n",
              "      <td>-0.106071</td>\n",
              "    </tr>\n",
              "    <tr>\n",
              "      <th>left</th>\n",
              "      <td>-0.388375</td>\n",
              "      <td>0.006567</td>\n",
              "      <td>0.023787</td>\n",
              "      <td>0.071287</td>\n",
              "      <td>0.144822</td>\n",
              "      <td>-0.154622</td>\n",
              "      <td>-0.061788</td>\n",
              "      <td>-0.106071</td>\n",
              "      <td>1.000000</td>\n",
              "    </tr>\n",
              "  </tbody>\n",
              "</table>\n",
              "</div>"
            ],
            "text/plain": [
              "                       satisfaction_level  last_evaluation  ...    salary      left\n",
              "satisfaction_level               1.000000         0.105021  ...  0.041029 -0.388375\n",
              "last_evaluation                  0.105021         1.000000  ...  0.000476  0.006567\n",
              "number_project                  -0.142970         0.349333  ...  0.005129  0.023787\n",
              "average_montly_hours            -0.020048         0.339742  ...  0.003141  0.071287\n",
              "time_spend_company              -0.100866         0.131591  ...  0.030444  0.144822\n",
              "Work_accident                    0.058697        -0.007104  ...  0.004522 -0.154622\n",
              "promotion_last_5years            0.025605        -0.008684  ...  0.064524 -0.061788\n",
              "salary                           0.041029         0.000476  ...  1.000000 -0.106071\n",
              "left                            -0.388375         0.006567  ... -0.106071  1.000000\n",
              "\n",
              "[9 rows x 9 columns]"
            ]
          },
          "metadata": {
            "tags": []
          },
          "execution_count": 11
        }
      ]
    },
    {
      "cell_type": "markdown",
      "metadata": {
        "id": "Gv5MwxhfQcm2",
        "colab_type": "text"
      },
      "source": [
        "**Explanation :**\n",
        "\n",
        "Creating a dataframe of correlation between all the features and the label column.\n",
        "\n",
        "\n",
        "**Observations :**\n",
        "\n",
        "1. There is no high correaltion among the features.\n",
        "\n",
        "2. There is moderate negative correaltion between left and satifaction_level (-0.39).\n",
        "\n",
        "3. There is moderate positive correaltion between number_project with last_evaluation(0.35) and avarage_monthly_hours (0.41)"
      ]
    },
    {
      "cell_type": "markdown",
      "metadata": {
        "id": "2q848_SkQ3k3",
        "colab_type": "text"
      },
      "source": [
        "## 5.c. Correaltion Analysis (Label Wise):"
      ]
    },
    {
      "cell_type": "code",
      "metadata": {
        "id": "GMynOon3yjYB",
        "colab_type": "code",
        "colab": {}
      },
      "source": [
        "def parse_interaction_with_key(line):\n",
        "      \n",
        "    try:\n",
        "        line[8] = salary.index(line[8])\n",
        "    except:\n",
        "        line[8] = len(salary)\n",
        "    \n",
        "    clean_line = [item for i,item in enumerate(line) if i not in [7]]\n",
        "    return (line[9], np.array([float(x) for x in clean_line]))\n",
        "\n",
        "label_numeric_data = data.map(parse_interaction_with_key)"
      ],
      "execution_count": null,
      "outputs": []
    },
    {
      "cell_type": "markdown",
      "metadata": {
        "id": "zZObfQnBRwUq",
        "colab_type": "text"
      },
      "source": [
        "**Explanation :**\n",
        "\n",
        "1. Like it was done for the previous function (parse_interaction), a new function is defined and salary is label encoded.\n",
        "\n",
        "2. This returns key value pair of Label along with the other variables.\n",
        "\n",
        "3. The function is applied to data and is stored in a variable named 'label_numeric_data'. \n",
        "\n",
        "\n",
        "\n",
        "\n"
      ]
    },
    {
      "cell_type": "markdown",
      "metadata": {
        "id": "VGL2kvzBd7MQ",
        "colab_type": "text"
      },
      "source": [
        "**To dig deeper, the data of those who have left must be observed:**"
      ]
    },
    {
      "cell_type": "code",
      "metadata": {
        "id": "57lUq040tNml",
        "colab_type": "code",
        "colab": {
          "base_uri": "https://localhost:8080/",
          "height": 351
        },
        "outputId": "77406082-a8a5-40f4-e337-3b3c0d9851aa"
      },
      "source": [
        "# filtering basis values of left. left==1 means person has quitted the company\n",
        "quitted_data = numeric_data.filter(lambda x: x[8]==1)\n",
        "\n",
        "quitted_corr_matrix = Statistics.corr(quitted_data, method=\"pearson\")\n",
        "\n",
        "quitted_corr_df = pd.DataFrame(quitted_corr_matrix, index=col_names, columns=col_names)\n",
        "\n",
        "print('Correlation among features for those who have left the company : \\n')\n",
        "quitted_corr_df.iloc[:8, :8] # excluding the column 'left' as all values of left are 1"
      ],
      "execution_count": null,
      "outputs": [
        {
          "output_type": "stream",
          "text": [
            "Correlation among features for those who have left the company : \n",
            "\n"
          ],
          "name": "stdout"
        },
        {
          "output_type": "execute_result",
          "data": {
            "text/html": [
              "<div>\n",
              "<style scoped>\n",
              "    .dataframe tbody tr th:only-of-type {\n",
              "        vertical-align: middle;\n",
              "    }\n",
              "\n",
              "    .dataframe tbody tr th {\n",
              "        vertical-align: top;\n",
              "    }\n",
              "\n",
              "    .dataframe thead th {\n",
              "        text-align: right;\n",
              "    }\n",
              "</style>\n",
              "<table border=\"1\" class=\"dataframe\">\n",
              "  <thead>\n",
              "    <tr style=\"text-align: right;\">\n",
              "      <th></th>\n",
              "      <th>satisfaction_level</th>\n",
              "      <th>last_evaluation</th>\n",
              "      <th>number_project</th>\n",
              "      <th>average_montly_hours</th>\n",
              "      <th>time_spend_company</th>\n",
              "      <th>Work_accident</th>\n",
              "      <th>promotion_last_5years</th>\n",
              "      <th>salary</th>\n",
              "    </tr>\n",
              "  </thead>\n",
              "  <tbody>\n",
              "    <tr>\n",
              "      <th>satisfaction_level</th>\n",
              "      <td>1.000000</td>\n",
              "      <td>0.182295</td>\n",
              "      <td>-0.227113</td>\n",
              "      <td>-0.084117</td>\n",
              "      <td>0.446440</td>\n",
              "      <td>0.005864</td>\n",
              "      <td>0.005516</td>\n",
              "      <td>-0.005019</td>\n",
              "    </tr>\n",
              "    <tr>\n",
              "      <th>last_evaluation</th>\n",
              "      <td>0.182295</td>\n",
              "      <td>1.000000</td>\n",
              "      <td>0.804155</td>\n",
              "      <td>0.830336</td>\n",
              "      <td>0.783873</td>\n",
              "      <td>-0.001875</td>\n",
              "      <td>-0.047992</td>\n",
              "      <td>0.016157</td>\n",
              "    </tr>\n",
              "    <tr>\n",
              "      <th>number_project</th>\n",
              "      <td>-0.227113</td>\n",
              "      <td>0.804155</td>\n",
              "      <td>1.000000</td>\n",
              "      <td>0.875194</td>\n",
              "      <td>0.601989</td>\n",
              "      <td>-0.008401</td>\n",
              "      <td>-0.032301</td>\n",
              "      <td>0.018866</td>\n",
              "    </tr>\n",
              "    <tr>\n",
              "      <th>average_montly_hours</th>\n",
              "      <td>-0.084117</td>\n",
              "      <td>0.830336</td>\n",
              "      <td>0.875194</td>\n",
              "      <td>1.000000</td>\n",
              "      <td>0.664011</td>\n",
              "      <td>-0.009048</td>\n",
              "      <td>-0.035475</td>\n",
              "      <td>0.021938</td>\n",
              "    </tr>\n",
              "    <tr>\n",
              "      <th>time_spend_company</th>\n",
              "      <td>0.446440</td>\n",
              "      <td>0.783873</td>\n",
              "      <td>0.601989</td>\n",
              "      <td>0.664011</td>\n",
              "      <td>1.000000</td>\n",
              "      <td>0.005222</td>\n",
              "      <td>-0.045888</td>\n",
              "      <td>0.006993</td>\n",
              "    </tr>\n",
              "    <tr>\n",
              "      <th>Work_accident</th>\n",
              "      <td>0.005864</td>\n",
              "      <td>-0.001875</td>\n",
              "      <td>-0.008401</td>\n",
              "      <td>-0.009048</td>\n",
              "      <td>0.005222</td>\n",
              "      <td>1.000000</td>\n",
              "      <td>0.056214</td>\n",
              "      <td>0.026766</td>\n",
              "    </tr>\n",
              "    <tr>\n",
              "      <th>promotion_last_5years</th>\n",
              "      <td>0.005516</td>\n",
              "      <td>-0.047992</td>\n",
              "      <td>-0.032301</td>\n",
              "      <td>-0.035475</td>\n",
              "      <td>-0.045888</td>\n",
              "      <td>0.056214</td>\n",
              "      <td>1.000000</td>\n",
              "      <td>-0.017865</td>\n",
              "    </tr>\n",
              "    <tr>\n",
              "      <th>salary</th>\n",
              "      <td>-0.005019</td>\n",
              "      <td>0.016157</td>\n",
              "      <td>0.018866</td>\n",
              "      <td>0.021938</td>\n",
              "      <td>0.006993</td>\n",
              "      <td>0.026766</td>\n",
              "      <td>-0.017865</td>\n",
              "      <td>1.000000</td>\n",
              "    </tr>\n",
              "  </tbody>\n",
              "</table>\n",
              "</div>"
            ],
            "text/plain": [
              "                       satisfaction_level  ...    salary\n",
              "satisfaction_level               1.000000  ... -0.005019\n",
              "last_evaluation                  0.182295  ...  0.016157\n",
              "number_project                  -0.227113  ...  0.018866\n",
              "average_montly_hours            -0.084117  ...  0.021938\n",
              "time_spend_company               0.446440  ...  0.006993\n",
              "Work_accident                    0.005864  ...  0.026766\n",
              "promotion_last_5years            0.005516  ... -0.017865\n",
              "salary                          -0.005019  ...  1.000000\n",
              "\n",
              "[8 rows x 8 columns]"
            ]
          },
          "metadata": {
            "tags": []
          },
          "execution_count": 13
        }
      ]
    },
    {
      "cell_type": "markdown",
      "metadata": {
        "id": "ibKb5Wycayd3",
        "colab_type": "text"
      },
      "source": [
        "**Explanation :**\n",
        "\n",
        "1. The data has been filtered and only those who have quitted the job are taken.\n",
        "\n",
        "2. Correaltion matrix is formed\n",
        "\n",
        "**Observations :**\n",
        "\n",
        "1. Here we see high correaltion between many features. \n",
        "\n",
        "2. As expected, average monthly hours is highly correlated with number of projects (0.87). The more time an employee gives, the more project he does.\n",
        "\n",
        "3. Last evaluation score is highly correlated with  average monthly hours (0.83) and number of projects (0.80). This is expected as high evaluation score is given to employees who work on more projects by spending more time every month."
      ]
    },
    {
      "cell_type": "markdown",
      "metadata": {
        "id": "qxfV3jL8ghAi",
        "colab_type": "text"
      },
      "source": [
        "## 5.d. Analysis using pyspark.sql dataframes:"
      ]
    },
    {
      "cell_type": "code",
      "metadata": {
        "id": "RWyvBeVzzFgK",
        "colab_type": "code",
        "colab": {}
      },
      "source": [
        "from pyspark.sql import Row\n",
        "\n",
        "# mapping the RDD to a DF for further analysis:\n",
        "df = data.map(lambda line: Row(satisfaction_level=line[0], \n",
        "                              last_evaluation=line[1], \n",
        "                              number_project=line[2],\n",
        "                              average_montly_hours=line[3],\n",
        "                              time_spend_company=line[4],\n",
        "                              Work_accident=line[5], \n",
        "                              promotion_last_5years=line[6],\n",
        "                              department=line[7],\n",
        "                              salary=line[8],\n",
        "                              left=line[9])).toDF()                "
      ],
      "execution_count": null,
      "outputs": []
    },
    {
      "cell_type": "markdown",
      "metadata": {
        "id": "CUyVJqUKe4sY",
        "colab_type": "text"
      },
      "source": [
        "**Explanation :**\n",
        "\n",
        "The data is converted to a dataframe for further analysis."
      ]
    },
    {
      "cell_type": "code",
      "metadata": {
        "id": "bslVmG4gzFdj",
        "colab_type": "code",
        "colab": {
          "base_uri": "https://localhost:8080/",
          "height": 343
        },
        "outputId": "0101ecb6-df01-46fc-8abc-e105c3968d34"
      },
      "source": [
        "print('Head of the Data : \\n')\n",
        "df.show(10) # looking at the first 10 rows"
      ],
      "execution_count": null,
      "outputs": [
        {
          "output_type": "stream",
          "text": [
            "Head of the Data : \n",
            "\n",
            "+------------------+---------------+--------------+--------------------+------------------+-------------+---------------------+-----------+------+----+\n",
            "|satisfaction_level|last_evaluation|number_project|average_montly_hours|time_spend_company|Work_accident|promotion_last_5years| department|salary|left|\n",
            "+------------------+---------------+--------------+--------------------+------------------+-------------+---------------------+-----------+------+----+\n",
            "|              0.41|           0.46|             2|                 128|                 3|            0|                    0| accounting|   low|   1|\n",
            "|              0.65|           0.76|             4|                 171|                 4|            0|                    0|  technical|   low|   0|\n",
            "|              0.94|           0.52|             3|                 273|                 3|            0|                    0|product_mng|  high|   0|\n",
            "|              0.92|           0.99|             4|                 245|                 4|            0|                    0|         IT|medium|   0|\n",
            "|              0.43|           0.46|             2|                 126|                 3|            0|                    0|      sales|medium|   1|\n",
            "|              0.82|            0.9|             3|                 227|                 3|            0|                    0|  marketing|medium|   0|\n",
            "|              0.52|           0.69|             5|                 208|                 8|            1|                    0|      RandD|   low|   0|\n",
            "|              0.09|           0.97|             7|                 288|                 4|            0|                    0|    support|medium|   1|\n",
            "|              0.66|           0.38|             4|                 145|                 5|            0|                    0|  technical|medium|   0|\n",
            "|              0.92|           0.88|             3|                 184|                 3|            1|                    0|  technical|   low|   0|\n",
            "+------------------+---------------+--------------+--------------------+------------------+-------------+---------------------+-----------+------+----+\n",
            "only showing top 10 rows\n",
            "\n"
          ],
          "name": "stdout"
        }
      ]
    },
    {
      "cell_type": "code",
      "metadata": {
        "id": "fdr0iv0RzFWb",
        "colab_type": "code",
        "colab": {
          "base_uri": "https://localhost:8080/",
          "height": 241
        },
        "outputId": "58ad937a-499f-4219-c8be-fc5bff1648c3"
      },
      "source": [
        "print(' Statistical summary of the features for the complete data: \\n')\n",
        "df.describe().show()"
      ],
      "execution_count": null,
      "outputs": [
        {
          "output_type": "stream",
          "text": [
            " Statistical summary of the features for the complete data: \n",
            "\n",
            "+-------+-------------------+-------------------+------------------+--------------------+------------------+------------------+---------------------+----------+------+-------------------+\n",
            "|summary| satisfaction_level|    last_evaluation|    number_project|average_montly_hours|time_spend_company|     Work_accident|promotion_last_5years|department|salary|               left|\n",
            "+-------+-------------------+-------------------+------------------+--------------------+------------------+------------------+---------------------+----------+------+-------------------+\n",
            "|  count|              14999|              14999|             14999|               14999|             14999|             14999|                14999|     14999| 14999|              14999|\n",
            "|   mean| 0.6128335222348125| 0.7161017401160044|  3.80305353690246|   201.0503366891126| 3.498233215547703|0.1446096406427095| 0.021268084538969265|      null|  null| 0.2380825388359224|\n",
            "| stddev|0.24863065106114257|0.17116911062327533|1.2325923553183507|  49.943099371284056|1.4601362305354817|0.3517185523801801|  0.14428146457858226|      null|  null|0.42592409938029946|\n",
            "|    min|               0.09|               0.36|                 2|                 100|                10|                 0|                    0|        IT|  high|                  0|\n",
            "|    max|                  1|                  1|                 7|                  99|                 8|                 1|                    1| technical|medium|                  1|\n",
            "+-------+-------------------+-------------------+------------------+--------------------+------------------+------------------+---------------------+----------+------+-------------------+\n",
            "\n"
          ],
          "name": "stdout"
        }
      ]
    },
    {
      "cell_type": "markdown",
      "metadata": {
        "id": "PTKi6UyihMkD",
        "colab_type": "text"
      },
      "source": [
        "**Explanation :**\n",
        "\n",
        "Looking at the statistical summary of columns, taking both working and quitted employee's data\n",
        "\n",
        "\n",
        "**Observations :**\n",
        "\n",
        "1. The employees are 61% satisfied with their jobs on an average.\n",
        "\n",
        "2. Out of 1 they have mean performance score of 0.71 .\n",
        "\n",
        "3. On an average, an employee worked on 3 to 4 projects (3.8 mean).\n",
        "\n",
        "4. The employees take 201 hours to do their jobs per month.\n",
        "\n",
        "5. An average employee worked almost 3.5 years in the company. The minimum number of working years among the employees is 2 and the maximum is 10.\n",
        "\n",
        "6. Only 2.1% of employees were promoted in the last 5 years.\n",
        "\n",
        "7. Employee churn rate is 23.81%\n",
        "\n"
      ]
    },
    {
      "cell_type": "markdown",
      "metadata": {
        "id": "lUnjQnVZh5fE",
        "colab_type": "text"
      },
      "source": [
        "\n",
        "**A deeper analysis is required by splitting the summary basis the labels:**"
      ]
    },
    {
      "cell_type": "code",
      "metadata": {
        "id": "Sr5-hAfZd0My",
        "colab_type": "code",
        "colab": {
          "base_uri": "https://localhost:8080/",
          "height": 513
        },
        "outputId": "e8116bde-aafe-4d3e-82b7-f2ba3f36b0d1"
      },
      "source": [
        "print('Statistical summary for those who are still working: \\n')\n",
        "df.where('left==0').describe().show()\n",
        "\n",
        "print('\\n','=x'*85, '\\n \\n')\n",
        "\n",
        "print('Statistical summary for those who have left: \\n')\n",
        "df.where('left==1').describe().show()\n"
      ],
      "execution_count": null,
      "outputs": [
        {
          "output_type": "stream",
          "text": [
            "Statistical summary for those who are still working: \n",
            "\n",
            "+-------+-------------------+-------------------+------------------+--------------------+------------------+-------------------+---------------------+----------+------+-----+\n",
            "|summary| satisfaction_level|    last_evaluation|    number_project|average_montly_hours|time_spend_company|      Work_accident|promotion_last_5years|department|salary| left|\n",
            "+-------+-------------------+-------------------+------------------+--------------------+------------------+-------------------+---------------------+----------+------+-----+\n",
            "|  count|              11428|              11428|             11428|               11428|             11428|              11428|                11428|     11428| 11428|11428|\n",
            "|   mean| 0.6668095904795224| 0.7154733986699311| 3.786664333216661|   199.0602030101505|3.3800315015750786|0.17500875043752187| 0.026251312565628283|      null|  null|  0.0|\n",
            "| stddev|0.21710375451971922|0.16200495648503893|0.9798837648210726|  45.682731159253585|1.5623480428752674| 0.3799912140501579|  0.15988876806282626|      null|  null|  0.0|\n",
            "|    min|               0.12|               0.36|                 2|                 100|                10|                  0|                    0|        IT|  high|    0|\n",
            "|    max|                  1|                  1|                 6|                  99|                 8|                  1|                    1| technical|medium|    0|\n",
            "+-------+-------------------+-------------------+------------------+--------------------+------------------+-------------------+---------------------+----------+------+-----+\n",
            "\n",
            "\n",
            " =x=x=x=x=x=x=x=x=x=x=x=x=x=x=x=x=x=x=x=x=x=x=x=x=x=x=x=x=x=x=x=x=x=x=x=x=x=x=x=x=x=x=x=x=x=x=x=x=x=x=x=x=x=x=x=x=x=x=x=x=x=x=x=x=x=x=x=x=x=x=x=x=x=x=x=x=x=x=x=x=x=x=x=x=x \n",
            " \n",
            "\n",
            "Statistical summary for those who have left: \n",
            "\n",
            "+-------+-------------------+-------------------+------------------+--------------------+------------------+--------------------+---------------------+----------+------+----+\n",
            "|summary| satisfaction_level|    last_evaluation|    number_project|average_montly_hours|time_spend_company|       Work_accident|promotion_last_5years|department|salary|left|\n",
            "+-------+-------------------+-------------------+------------------+--------------------+------------------+--------------------+---------------------+----------+------+----+\n",
            "|  count|               3571|               3571|              3571|                3571|              3571|                3571|                 3571|      3571|  3571|3571|\n",
            "|   mean|0.44009801176141317| 0.7181125735088201|3.8555026603192384|  207.41921030523662| 3.876505180621675|0.047325679081489776| 0.005320638476617194|      null|  null| 1.0|\n",
            "| stddev|0.26393343618863957|0.19767335670521288|1.8181653705009124|   61.20282540981022|0.9776979170428668| 0.21236428207489216|  0.07275858525284556|      null|  null| 0.0|\n",
            "|    min|               0.09|               0.45|                 2|                 126|                 2|                   0|                    0|        IT|  high|   1|\n",
            "|    max|               0.92|                  1|                 7|                 310|                 6|                   1|                    1| technical|medium|   1|\n",
            "+-------+-------------------+-------------------+------------------+--------------------+------------------+--------------------+---------------------+----------+------+----+\n",
            "\n"
          ],
          "name": "stdout"
        }
      ]
    },
    {
      "cell_type": "markdown",
      "metadata": {
        "id": "GxGilZounHnR",
        "colab_type": "text"
      },
      "source": [
        "**Explanation :**\n",
        "\n",
        "The data is filtered basis the labels and then label-wise statistical summaries for the variables are printed.\n",
        "\n",
        "**Observations :**\n",
        "\n",
        "1. The working employees are 66% satisfied but the quitted ones were only 44% satisfied, on an average.\n",
        "\n",
        "2. Out of 1, the mean performance score of quitted ones (0.718) are slightly better than the working employees (0.715)\n",
        "\n",
        "3. On an average, the ones who have quitted, had worked on more projects (3.85) , than the employees who are still working(3.78).\n",
        "\n",
        "4. The quitted ones had also spent more time monthly working , and, they were working for a longer period than the still working ones.\n",
        "\n",
        "6. Among the quitted employees, a mere 0.5% of employees were promoted in the last 5 years in comparison to 2.6% among the working ones.\n",
        "\n",
        "7. It is clearly observed that quitted employees worked more but were promoted less and were less satisfied.\n",
        "\n"
      ]
    },
    {
      "cell_type": "code",
      "metadata": {
        "id": "hf4WsS_kd0Go",
        "colab_type": "code",
        "colab": {
          "base_uri": "https://localhost:8080/",
          "height": 238
        },
        "outputId": "99711e28-4afb-43d5-f9b6-41f7d53be572"
      },
      "source": [
        "print('Salary-wise number of employees those who have left and those who are still working : \\n')\n",
        "\n",
        "df.groupBy(\"salary\",'left')\\\n",
        ".count().sort('salary',\"left\").show()"
      ],
      "execution_count": null,
      "outputs": [
        {
          "output_type": "stream",
          "text": [
            "Salary-wise number of employees those who have left and those who are still working : \n",
            "\n",
            "+------+----+-----+\n",
            "|salary|left|count|\n",
            "+------+----+-----+\n",
            "|  high|   0| 1155|\n",
            "|  high|   1|   82|\n",
            "|   low|   0| 5144|\n",
            "|   low|   1| 2172|\n",
            "|medium|   0| 5129|\n",
            "|medium|   1| 1317|\n",
            "+------+----+-----+\n",
            "\n"
          ],
          "name": "stdout"
        }
      ]
    },
    {
      "cell_type": "markdown",
      "metadata": {
        "id": "anhO6eoiw0AX",
        "colab_type": "text"
      },
      "source": [
        "**Observations :**\n",
        " \n",
        " 1. There is high churn rate among the lower paid employees. Close to 30% low paid employees have left\n",
        "\n",
        " 2. The rate is high among medium paid employees as well, which is about 20%\n",
        "\n",
        " 3. The high paid employees have the least churn rate of about 6%"
      ]
    },
    {
      "cell_type": "code",
      "metadata": {
        "id": "fQ1JMpm8d0DR",
        "colab_type": "code",
        "colab": {
          "base_uri": "https://localhost:8080/",
          "height": 476
        },
        "outputId": "e11c4615-430b-4641-db38-06bf179b2b01"
      },
      "source": [
        "print('Department-wise number of employees those who have left and those who are still working : \\n')\n",
        "\n",
        "df.groupBy(\"department\",'left')\\\n",
        ".count().sort(\"department\",'left').show()"
      ],
      "execution_count": null,
      "outputs": [
        {
          "output_type": "stream",
          "text": [
            "Department-wise number of employees those who have left and those who are still working : \n",
            "\n",
            "+-----------+----+-----+\n",
            "| department|left|count|\n",
            "+-----------+----+-----+\n",
            "|         IT|   0|  954|\n",
            "|         IT|   1|  273|\n",
            "|      RandD|   0|  666|\n",
            "|      RandD|   1|  121|\n",
            "| accounting|   0|  563|\n",
            "| accounting|   1|  204|\n",
            "|         hr|   0|  524|\n",
            "|         hr|   1|  215|\n",
            "| management|   0|  539|\n",
            "| management|   1|   91|\n",
            "|  marketing|   0|  655|\n",
            "|  marketing|   1|  203|\n",
            "|product_mng|   0|  704|\n",
            "|product_mng|   1|  198|\n",
            "|      sales|   0| 3126|\n",
            "|      sales|   1| 1014|\n",
            "|    support|   0| 1674|\n",
            "|    support|   1|  555|\n",
            "|  technical|   0| 2023|\n",
            "|  technical|   1|  697|\n",
            "+-----------+----+-----+\n",
            "\n"
          ],
          "name": "stdout"
        }
      ]
    },
    {
      "cell_type": "markdown",
      "metadata": {
        "id": "HAKkc5SmyYqG",
        "colab_type": "text"
      },
      "source": [
        "\n",
        "**Observations :**\n",
        " \n",
        " 1. The churn rate is more or less similar across all the departments except RandD and management.\n",
        " \n",
        " 2. The churn rate is high in the HR department, which is as high as 28.5%\n",
        "\n",
        " 3. Among the RandD and management the rate is 15.37% and 14.44% respectively which is lower than the other departments.\n"
      ]
    },
    {
      "cell_type": "code",
      "metadata": {
        "id": "geX6zUUj30lp",
        "colab_type": "code",
        "colab": {
          "base_uri": "https://localhost:8080/",
          "height": 357
        },
        "outputId": "58bcc188-4420-4894-9a89-614a95469006"
      },
      "source": [
        "print('Count of employees those who have left and those who are still working along with their number of years working: \\n')\n",
        "\n",
        "\n",
        "df.groupBy(\"time_spend_company\",'left')\\\n",
        ".count().sort('left',\"time_spend_company\").show()"
      ],
      "execution_count": null,
      "outputs": [
        {
          "output_type": "stream",
          "text": [
            "Count of employees those who have left and those who are still working along with their number of years working: \n",
            "\n",
            "+------------------+----+-----+\n",
            "|time_spend_company|left|count|\n",
            "+------------------+----+-----+\n",
            "|                10|   0|  214|\n",
            "|                 2|   0| 3191|\n",
            "|                 3|   0| 4857|\n",
            "|                 4|   0| 1667|\n",
            "|                 5|   0|  640|\n",
            "|                 6|   0|  509|\n",
            "|                 7|   0|  188|\n",
            "|                 8|   0|  162|\n",
            "|                 2|   1|   53|\n",
            "|                 3|   1| 1586|\n",
            "|                 4|   1|  890|\n",
            "|                 5|   1|  833|\n",
            "|                 6|   1|  209|\n",
            "+------------------+----+-----+\n",
            "\n"
          ],
          "name": "stdout"
        }
      ]
    },
    {
      "cell_type": "markdown",
      "metadata": {
        "id": "yu2MFTYU0uSJ",
        "colab_type": "text"
      },
      "source": [
        "**Observations :**\n",
        "\n",
        "1. A very high number of employees have left after working for 3 to 6 years.\n",
        "\n",
        "2. The retention rate is 100% for employees those have worked for 7 or more years."
      ]
    },
    {
      "cell_type": "code",
      "metadata": {
        "id": "JB0QU9F1_hUo",
        "colab_type": "code",
        "colab": {
          "base_uri": "https://localhost:8080/",
          "height": 564
        },
        "outputId": "092806af-44d1-4a9d-acf4-5b83b0583db7"
      },
      "source": [
        "print('Years spent in company along with the average of features for those who are Working: \\n')\n",
        "\n",
        "df.where('left==0').groupBy(\"time_spend_company\")\\\n",
        ".agg({\"satisfaction_level\":\"avg\",\\\n",
        "      \"last_evaluation\":\"avg\",\\\n",
        "      'number_project':\"avg\", \\\n",
        "      'average_montly_hours':\"avg\",\\\n",
        "      'Work_accident':\"avg\"})\\\n",
        "      .sort('time_spend_company')\\\n",
        ".show()\n",
        "\n",
        "print('\\n','=x'*65, '\\n \\n')\n",
        "\n",
        "print('Years spent in company along with the average of features for those who have Left: \\n')\n",
        "\n",
        "\n",
        "df.where('left==1').groupBy(\"time_spend_company\")\\\n",
        ".agg({\"satisfaction_level\":\"avg\",\\\n",
        "      \"last_evaluation\":\"avg\",\\\n",
        "      'number_project':\"avg\", \\\n",
        "      'average_montly_hours':\"avg\",\\\n",
        "      'Work_accident':\"avg\"})\\\n",
        "      .sort('time_spend_company')\\\n",
        ".show()"
      ],
      "execution_count": null,
      "outputs": [
        {
          "output_type": "stream",
          "text": [
            "Years spent in company along with the average of features for those who are Working: \n",
            "\n",
            "+------------------+--------------------+-------------------+-----------------------+-------------------------+-------------------+\n",
            "|time_spend_company|avg(last_evaluation)| avg(Work_accident)|avg(satisfaction_level)|avg(average_montly_hours)|avg(number_project)|\n",
            "+------------------+--------------------+-------------------+-----------------------+-------------------------+-------------------+\n",
            "|                10|  0.7314953271028035| 0.2336448598130841|     0.6553271028037382|       199.22429906542055|  3.682242990654206|\n",
            "|                 2|  0.7170040739580064|0.17455343152616734|     0.6999905985584463|       199.95643998746473| 3.6812911313068004|\n",
            "|                 3|  0.7172781552398608|0.16903438336421658|     0.6963804817788761|       199.45151327980236| 3.7294626312538606|\n",
            "|                 4|  0.7219736052789446|0.16376724655068986|     0.6386742651469709|        198.8122375524895|  3.916016796640672|\n",
            "|                 5|  0.6999531250000002|            0.20625|            0.475296875|              192.5765625|            4.20625|\n",
            "|                 6|  0.6933398821218073| 0.1905697445972495|      0.526345776031434|       199.65422396856582| 4.0648330058939095|\n",
            "|                 7|  0.6827659574468086|0.13829787234042554|     0.6359574468085106|       200.74468085106383|  3.851063829787234|\n",
            "|                 8|  0.7119753086419753| 0.2716049382716049|     0.6650617283950618|       193.80246913580248| 3.7777777777777777|\n",
            "+------------------+--------------------+-------------------+-----------------------+-------------------------+-------------------+\n",
            "\n",
            "\n",
            " =x=x=x=x=x=x=x=x=x=x=x=x=x=x=x=x=x=x=x=x=x=x=x=x=x=x=x=x=x=x=x=x=x=x=x=x=x=x=x=x=x=x=x=x=x=x=x=x=x=x=x=x=x=x=x=x=x=x=x=x=x=x=x=x=x \n",
            " \n",
            "\n",
            "Years spent in company along with the average of features for those who have Left: \n",
            "\n",
            "+------------------+--------------------+--------------------+-----------------------+-------------------------+-------------------+\n",
            "|time_spend_company|avg(last_evaluation)|  avg(Work_accident)|avg(satisfaction_level)|avg(average_montly_hours)|avg(number_project)|\n",
            "+------------------+--------------------+--------------------+-----------------------+-------------------------+-------------------+\n",
            "|                 2|  0.7532075471698113|0.018867924528301886|     0.5216981132075473|       210.77358490566039|  4.056603773584905|\n",
            "|                 3|  0.5200189155107183| 0.04665825977301387|    0.41174022698612806|       147.37704918032787| 2.0977301387137453|\n",
            "|                 4|  0.8540000000000002| 0.05056179775280899|    0.14693258426966324|        269.6123595505618|   5.96067415730337|\n",
            "|                 5|  0.9010324129651863|  0.0468187274909964|     0.7140336134453781|       246.33733493397358|  4.759903961584634|\n",
            "|                 6|  0.9047368421052631| 0.04784688995215311|     0.7911961722488039|         242.244019138756|  4.574162679425838|\n",
            "+------------------+--------------------+--------------------+-----------------------+-------------------------+-------------------+\n",
            "\n"
          ],
          "name": "stdout"
        }
      ]
    },
    {
      "cell_type": "markdown",
      "metadata": {
        "id": "iBcnf4Pw2HQc",
        "colab_type": "text"
      },
      "source": [
        "**Observations :**\n",
        "1. Interestingly, the performance score of quitted employees, those who have worked betwwen 4 to 6 years is very high (0.85 to 0.90), even higher than those who are still working.\n",
        "\n",
        "2. The quitted employees had very few work accidents than those who are working.\n",
        "\n",
        "3. Among the quitted ones, the satisfaction level of those worked between 2 to 4 years is pretty low, as low as 0.14 to 0.52.\n",
        "\n",
        "4. On an average the employees those have spent 4 to 6 years in the company, the quitted employees have spent a lot more time working than the still working ones on a higher number of projects on average per year.\n",
        "\n",
        "5. So overall this can be observed that the experienced employees , those who are working more and hard and have a very good performance score , haven't been paid attention to by the company. \n",
        "\n",
        "6. The employees who have worked more than 7 years, although they have lower satisfacton level (than those who have worked 2 or 3 years and still working) , they tend to stay with the company,this could be because they are used to the company and want to walk on the same known road.\n"
      ]
    },
    {
      "cell_type": "markdown",
      "metadata": {
        "id": "QDX8gMqubsZq",
        "colab_type": "text"
      },
      "source": [
        "# 6. Predictive Models: "
      ]
    },
    {
      "cell_type": "markdown",
      "metadata": {
        "id": "VpEx2ykhu_Zo",
        "colab_type": "text"
      },
      "source": [
        "## 6.a. Data Preparation for building Predictive Models:"
      ]
    },
    {
      "cell_type": "code",
      "metadata": {
        "id": "uDv3jxOHX5Gy",
        "colab_type": "code",
        "colab": {}
      },
      "source": [
        "from pyspark.mllib.regression import LabeledPoint\n",
        "from numpy import array\n",
        "\n",
        "def create_labeled_point(line_split):\n",
        "    clean_line_split = line_split[0:9]\n",
        "    \n",
        "    # convert departments to numeric categorical variable\n",
        "    try: \n",
        "        clean_line_split[7] = departments.index(clean_line_split[7])\n",
        "    except:\n",
        "        clean_line_split[7] = len(departments)\n",
        "        \n",
        "    # convert salary to numeric categorical variable\n",
        "    try:\n",
        "        clean_line_split[8] = salary.index(clean_line_split[8])\n",
        "    except:\n",
        "        clean_line_split[8] = len(salary)\n",
        "\n",
        "        \n",
        "    return LabeledPoint(line_split[9], array([float(x) for x in clean_line_split]))\n",
        "\n",
        "labeled_data = data.map(create_labeled_point)"
      ],
      "execution_count": null,
      "outputs": []
    },
    {
      "cell_type": "markdown",
      "metadata": {
        "id": "_66dUmEK_JYl",
        "colab_type": "text"
      },
      "source": [
        "**Explanation :**\n",
        "\n",
        "1. The objective here is to prepare the data to run machine learning models\n",
        "\n",
        "2. A function is defined which will convert the categorical variable department and salary to numbers.\n",
        "\n",
        "3. The function will return a key value pair of the label along with it's features\n",
        "\n",
        "4. At the end, this function is applied to the data and is stored in variable named 'labeled_data'."
      ]
    },
    {
      "cell_type": "code",
      "metadata": {
        "id": "4hTz3oikZXX5",
        "colab_type": "code",
        "colab": {}
      },
      "source": [
        "# spliting the labeled data to train and test set\n",
        "\n",
        "train_data, test_data = labeled_data.randomSplit([.8,.2],seed=123)"
      ],
      "execution_count": null,
      "outputs": []
    },
    {
      "cell_type": "markdown",
      "metadata": {
        "id": "V-KZlZRPvU05",
        "colab_type": "text"
      },
      "source": [
        "## 6.b. Decision Tree Model:"
      ]
    },
    {
      "cell_type": "markdown",
      "metadata": {
        "id": "HQUeZm9yDoGU",
        "colab_type": "text"
      },
      "source": [
        "**Model Building:**"
      ]
    },
    {
      "cell_type": "code",
      "metadata": {
        "id": "wuIxQkFlZtVj",
        "colab_type": "code",
        "colab": {
          "base_uri": "https://localhost:8080/",
          "height": 34
        },
        "outputId": "ab987004-6224-45b6-cb95-ef21c3e63a38"
      },
      "source": [
        "from pyspark.mllib.tree import DecisionTree, DecisionTreeModel\n",
        "from time import time\n",
        "\n",
        "# building the model:\n",
        "t0 = time()\n",
        "tree_model = DecisionTree.trainClassifier(train_data, numClasses=2, \n",
        "                                          categoricalFeaturesInfo={7: len(departments), 8: len(salary)},\n",
        "                                          impurity='gini', maxDepth=4, maxBins=100)\n",
        "tt = time() - t0\n",
        "\n",
        "print(\"Classifier trained in {} seconds\".format(round(tt,3)))"
      ],
      "execution_count": null,
      "outputs": [
        {
          "output_type": "stream",
          "text": [
            "Classifier trained in 3.081 seconds\n"
          ],
          "name": "stdout"
        }
      ]
    },
    {
      "cell_type": "markdown",
      "metadata": {
        "id": "U_uKEi5zDE82",
        "colab_type": "text"
      },
      "source": [
        "**Explanation :**\n",
        "\n",
        "The Decision tree classifier model is created and trained using MLlib and among the parameters, a parameter is passed telling the model that the features 7 and 8 are categorical, along with the number of unique values in thaose features"
      ]
    },
    {
      "cell_type": "markdown",
      "metadata": {
        "id": "QVT8tq1cD0m_",
        "colab_type": "text"
      },
      "source": [
        "**Model Evaluation:**"
      ]
    },
    {
      "cell_type": "code",
      "metadata": {
        "id": "l1eCdVxtbBBY",
        "colab_type": "code",
        "colab": {
          "base_uri": "https://localhost:8080/",
          "height": 34
        },
        "outputId": "8d89c00f-9cbb-4946-bef7-aa1d23db35ed"
      },
      "source": [
        "predictions = tree_model.predict(test_data.map(lambda p: p.features))\n",
        "labels_and_preds = test_data.map(lambda p: p.label).zip(predictions)\n",
        "\n",
        "t0 = time()\n",
        "test_accuracy = labels_and_preds.filter(lambda vp: vp[0] == vp[1]).count() / float(test_data.count())\n",
        "tt = time() - t0\n",
        "\n",
        "print(\"Prediction made in {} seconds. Test accuracy is {}\".format(round(tt,3), round(test_accuracy,4)))"
      ],
      "execution_count": null,
      "outputs": [
        {
          "output_type": "stream",
          "text": [
            "Prediction made in 1.54 seconds. Test accuracy is 0.9725\n"
          ],
          "name": "stdout"
        }
      ]
    },
    {
      "cell_type": "markdown",
      "metadata": {
        "id": "U0_mWV3hD7uG",
        "colab_type": "text"
      },
      "source": [
        "**Model Visualisation:**"
      ]
    },
    {
      "cell_type": "code",
      "metadata": {
        "id": "wE0ejfs1bDFx",
        "colab_type": "code",
        "colab": {
          "base_uri": "https://localhost:8080/",
          "height": 697
        },
        "outputId": "8b6e2e58-0f8f-4025-d811-10e9c6d73429"
      },
      "source": [
        "print(\"Learned classification tree model:\")\n",
        "print(tree_model.toDebugString())"
      ],
      "execution_count": null,
      "outputs": [
        {
          "output_type": "stream",
          "text": [
            "Learned classification tree model:\n",
            "DecisionTreeModel classifier of depth 4 with 25 nodes\n",
            "  If (feature 0 <= 0.46499999999999997)\n",
            "   If (feature 2 <= 2.5)\n",
            "    If (feature 1 <= 0.575)\n",
            "     If (feature 1 <= 0.445)\n",
            "      Predict: 0.0\n",
            "     Else (feature 1 > 0.445)\n",
            "      Predict: 1.0\n",
            "    Else (feature 1 > 0.575)\n",
            "     If (feature 3 <= 278.5)\n",
            "      Predict: 0.0\n",
            "     Else (feature 3 > 278.5)\n",
            "      Predict: 1.0\n",
            "   Else (feature 2 > 2.5)\n",
            "    If (feature 0 <= 0.11499999999999999)\n",
            "     Predict: 1.0\n",
            "    Else (feature 0 > 0.11499999999999999)\n",
            "     If (feature 2 <= 6.5)\n",
            "      Predict: 0.0\n",
            "     Else (feature 2 > 6.5)\n",
            "      Predict: 1.0\n",
            "  Else (feature 0 > 0.46499999999999997)\n",
            "   If (feature 4 <= 4.5)\n",
            "    If (feature 3 <= 287.5)\n",
            "     If (feature 2 <= 6.5)\n",
            "      Predict: 0.0\n",
            "     Else (feature 2 > 6.5)\n",
            "      Predict: 1.0\n",
            "    Else (feature 3 > 287.5)\n",
            "     Predict: 1.0\n",
            "   Else (feature 4 > 4.5)\n",
            "    If (feature 1 <= 0.815)\n",
            "     Predict: 0.0\n",
            "    Else (feature 1 > 0.815)\n",
            "     If (feature 3 <= 216.5)\n",
            "      Predict: 0.0\n",
            "     Else (feature 3 > 216.5)\n",
            "      Predict: 1.0\n",
            "\n"
          ],
          "name": "stdout"
        }
      ]
    },
    {
      "cell_type": "markdown",
      "metadata": {
        "id": "ZOi5XUeuE7yX",
        "colab_type": "text"
      },
      "source": [
        "**Observations :**\n",
        "\n",
        "\n",
        "1. Satisfaction level (feature 0) seems to be the most important variable. If employee satisfaction level is above 0.46 , they’re much more likely to stay.\n",
        "\n",
        "2. If employees have low satisfaction, the number of projects (feature 2) becomes crucial to them. If the employees have more projects, they’re more likely to remain. If they have fewer projects, they leave.\n",
        "\n",
        "3. If employees are satisfied ( satisfaction_level > 0.46), and they have been at the company for less than 4.5 years (feature 4), and scored over 81% (feature 1) in their last evaluation, they are very likely to leave.\n",
        "\n",
        "4. So, by visualising the Decision Tree spliting criterias, we can see that the features 0,1,2 and 4 are the important features.\n",
        "\n",
        "5. They are namely : satisfaction_level, last_evaluation, number_project and time_spend_company"
      ]
    },
    {
      "cell_type": "markdown",
      "metadata": {
        "id": "z-y-ZcV3vcAg",
        "colab_type": "text"
      },
      "source": [
        "## 6.c. Decison Tree Model (Reduced Features):"
      ]
    },
    {
      "cell_type": "markdown",
      "metadata": {
        "id": "zPG176S-EDiW",
        "colab_type": "text"
      },
      "source": [
        "**Data Preparation with reduced features:**"
      ]
    },
    {
      "cell_type": "code",
      "metadata": {
        "id": "y9OvCiBRbj78",
        "colab_type": "code",
        "colab": {}
      },
      "source": [
        "def create_labeled_point_minimal(line_split):\n",
        "    # leave_out = [9]\n",
        "    clean_line_split = line_split[0:3] + line_split[4:5]\n",
        "  \n",
        "        \n",
        "    return LabeledPoint(line_split[9], array([float(x) for x in clean_line_split]))\n",
        "\n",
        "labeled_data_minimal = data.map(create_labeled_point_minimal)\n",
        "train_data_minimal, test_data_minimal = labeled_data_minimal.randomSplit([.8,.2],seed=123)"
      ],
      "execution_count": null,
      "outputs": []
    },
    {
      "cell_type": "markdown",
      "metadata": {
        "id": "SxjOXF-rHpID",
        "colab_type": "text"
      },
      "source": [
        "**Explanation :**\n",
        "\n",
        "Here a new function is defined that return key value pair of label along with the 4 feature values : satisfaction_level, last_evaluation, number_project and time_spend_company"
      ]
    },
    {
      "cell_type": "markdown",
      "metadata": {
        "id": "_tNN9S99EWH3",
        "colab_type": "text"
      },
      "source": [
        "**Model Building with Reduced Features:**"
      ]
    },
    {
      "cell_type": "code",
      "metadata": {
        "id": "DyBBGQ55fLNP",
        "colab_type": "code",
        "colab": {
          "base_uri": "https://localhost:8080/",
          "height": 34
        },
        "outputId": "69d8101d-6689-4662-c00a-1ceeefc828dc"
      },
      "source": [
        "t0 = time()\n",
        "tree_model_minimal = DecisionTree.trainClassifier(train_data_minimal, numClasses=2, \n",
        "                                          categoricalFeaturesInfo={},\n",
        "                                          impurity='gini', maxDepth=4, maxBins=100)\n",
        "tt = time() - t0\n",
        "\n",
        "print(\"Classifier trained in {} seconds\".format(round(tt,3)))"
      ],
      "execution_count": null,
      "outputs": [
        {
          "output_type": "stream",
          "text": [
            "Classifier trained in 1.665 seconds\n"
          ],
          "name": "stdout"
        }
      ]
    },
    {
      "cell_type": "markdown",
      "metadata": {
        "id": "G6HxyhTzH9qJ",
        "colab_type": "text"
      },
      "source": [
        "**Explanation :**\n",
        "Buildig a new decision tree model, with only the 4 features"
      ]
    },
    {
      "cell_type": "markdown",
      "metadata": {
        "id": "NmzxoKvGEy_O",
        "colab_type": "text"
      },
      "source": [
        "**Model Evaluation (Minimal Model):**"
      ]
    },
    {
      "cell_type": "code",
      "metadata": {
        "id": "CfK3ZlaXgO80",
        "colab_type": "code",
        "colab": {
          "base_uri": "https://localhost:8080/",
          "height": 34
        },
        "outputId": "13218f0a-2549-4f72-c9cf-8cca45fc5627"
      },
      "source": [
        "predictions_minimal = tree_model_minimal.predict(test_data_minimal.map(lambda p: p.features))\n",
        "labels_and_preds_minimal = test_data_minimal.map(lambda p: p.label).zip(predictions_minimal)\n",
        "\n",
        "t0 = time()\n",
        "test_accuracy = labels_and_preds_minimal.filter(lambda vp: vp[0] == vp[1]).count() / float(test_data_minimal.count())\n",
        "tt = time() - t0\n",
        "\n",
        "print(\"Prediction made in {} seconds. Test accuracy is {}\".format(round(tt,3), round(test_accuracy,4)))"
      ],
      "execution_count": null,
      "outputs": [
        {
          "output_type": "stream",
          "text": [
            "Prediction made in 1.066 seconds. Test accuracy is 0.9715\n"
          ],
          "name": "stdout"
        }
      ]
    },
    {
      "cell_type": "markdown",
      "metadata": {
        "id": "K-JFeEJbF5TI",
        "colab_type": "text"
      },
      "source": [
        "**Observation :**\n",
        "\n",
        "This can be observed here that instead of 9 predictor features, using just the 4 features is resulting in almost equal accuracy."
      ]
    },
    {
      "cell_type": "code",
      "metadata": {
        "id": "eQ_E7iLvGFHL",
        "colab_type": "code",
        "colab": {
          "base_uri": "https://localhost:8080/",
          "height": 595
        },
        "outputId": "8052ab3c-e595-42a6-aa0d-b671f6ed8181"
      },
      "source": [
        "print('Minimal Decison tree :')\n",
        "\n",
        "print(tree_model_minimal.toDebugString())"
      ],
      "execution_count": null,
      "outputs": [
        {
          "output_type": "stream",
          "text": [
            "Minimal Decison tree :\n",
            "DecisionTreeModel classifier of depth 4 with 21 nodes\n",
            "  If (feature 0 <= 0.46499999999999997)\n",
            "   If (feature 2 <= 2.5)\n",
            "    If (feature 1 <= 0.575)\n",
            "     If (feature 1 <= 0.445)\n",
            "      Predict: 0.0\n",
            "     Else (feature 1 > 0.445)\n",
            "      Predict: 1.0\n",
            "    Else (feature 1 > 0.575)\n",
            "     Predict: 0.0\n",
            "   Else (feature 2 > 2.5)\n",
            "    If (feature 0 <= 0.11499999999999999)\n",
            "     Predict: 1.0\n",
            "    Else (feature 0 > 0.11499999999999999)\n",
            "     If (feature 2 <= 6.5)\n",
            "      Predict: 0.0\n",
            "     Else (feature 2 > 6.5)\n",
            "      Predict: 1.0\n",
            "  Else (feature 0 > 0.46499999999999997)\n",
            "   If (feature 3 <= 4.5)\n",
            "    If (feature 2 <= 6.5)\n",
            "     Predict: 0.0\n",
            "    Else (feature 2 > 6.5)\n",
            "     Predict: 1.0\n",
            "   Else (feature 3 > 4.5)\n",
            "    If (feature 1 <= 0.815)\n",
            "     Predict: 0.0\n",
            "    Else (feature 1 > 0.815)\n",
            "     If (feature 3 <= 6.5)\n",
            "      Predict: 1.0\n",
            "     Else (feature 3 > 6.5)\n",
            "      Predict: 0.0\n",
            "\n"
          ],
          "name": "stdout"
        }
      ]
    },
    {
      "cell_type": "markdown",
      "metadata": {
        "id": "YHliJ0AGpHOB",
        "colab_type": "text"
      },
      "source": [
        "## 6.d. Logestic Regression Model:"
      ]
    },
    {
      "cell_type": "markdown",
      "metadata": {
        "id": "Ds8394c-H8Im",
        "colab_type": "text"
      },
      "source": [
        "**Hypothesis Tesing to check feature significance for building logistic regression model:**"
      ]
    },
    {
      "cell_type": "code",
      "metadata": {
        "id": "lN-oq7-iHzHv",
        "colab_type": "code",
        "colab": {
          "base_uri": "https://localhost:8080/",
          "height": 297
        },
        "outputId": "57a620af-eab8-4dbb-fc10-e482c3df578b"
      },
      "source": [
        "chi = Statistics.chiSqTest(labeled_data)\n",
        "pd.set_option('display.max_colwidth', 30)\n",
        "\n",
        "feature_names = ['satisfaction_level','last_evaluation','number_project','average_montly_hours',\n",
        "                 'time_spend_company','Work_accident','promotion_last_5years','salary','left']\n",
        "\n",
        "records = [(result.statistic, result.pValue) for result in chi]\n",
        "\n",
        "chi_df = pd.DataFrame(data=records, index= feature_names, columns=[\"Statistic\",\"p-value\"])\n",
        "\n",
        "chi_df.iloc[:8, :]"
      ],
      "execution_count": null,
      "outputs": [
        {
          "output_type": "execute_result",
          "data": {
            "text/html": [
              "<div>\n",
              "<style scoped>\n",
              "    .dataframe tbody tr th:only-of-type {\n",
              "        vertical-align: middle;\n",
              "    }\n",
              "\n",
              "    .dataframe tbody tr th {\n",
              "        vertical-align: top;\n",
              "    }\n",
              "\n",
              "    .dataframe thead th {\n",
              "        text-align: right;\n",
              "    }\n",
              "</style>\n",
              "<table border=\"1\" class=\"dataframe\">\n",
              "  <thead>\n",
              "    <tr style=\"text-align: right;\">\n",
              "      <th></th>\n",
              "      <th>Statistic</th>\n",
              "      <th>p-value</th>\n",
              "    </tr>\n",
              "  </thead>\n",
              "  <tbody>\n",
              "    <tr>\n",
              "      <th>satisfaction_level</th>\n",
              "      <td>7937.744226</td>\n",
              "      <td>0.000000e+00</td>\n",
              "    </tr>\n",
              "    <tr>\n",
              "      <th>last_evaluation</th>\n",
              "      <td>2534.841922</td>\n",
              "      <td>0.000000e+00</td>\n",
              "    </tr>\n",
              "    <tr>\n",
              "      <th>number_project</th>\n",
              "      <td>5373.586480</td>\n",
              "      <td>0.000000e+00</td>\n",
              "    </tr>\n",
              "    <tr>\n",
              "      <th>average_montly_hours</th>\n",
              "      <td>3623.053923</td>\n",
              "      <td>0.000000e+00</td>\n",
              "    </tr>\n",
              "    <tr>\n",
              "      <th>time_spend_company</th>\n",
              "      <td>2110.079505</td>\n",
              "      <td>0.000000e+00</td>\n",
              "    </tr>\n",
              "    <tr>\n",
              "      <th>Work_accident</th>\n",
              "      <td>358.593836</td>\n",
              "      <td>0.000000e+00</td>\n",
              "    </tr>\n",
              "    <tr>\n",
              "      <th>promotion_last_5years</th>\n",
              "      <td>57.262734</td>\n",
              "      <td>3.808065e-14</td>\n",
              "    </tr>\n",
              "    <tr>\n",
              "      <th>salary</th>\n",
              "      <td>86.825474</td>\n",
              "      <td>6.994405e-15</td>\n",
              "    </tr>\n",
              "  </tbody>\n",
              "</table>\n",
              "</div>"
            ],
            "text/plain": [
              "                         Statistic       p-value\n",
              "satisfaction_level     7937.744226  0.000000e+00\n",
              "last_evaluation        2534.841922  0.000000e+00\n",
              "number_project         5373.586480  0.000000e+00\n",
              "average_montly_hours   3623.053923  0.000000e+00\n",
              "time_spend_company     2110.079505  0.000000e+00\n",
              "Work_accident           358.593836  0.000000e+00\n",
              "promotion_last_5years    57.262734  3.808065e-14\n",
              "salary                   86.825474  6.994405e-15"
            ]
          },
          "metadata": {
            "tags": []
          },
          "execution_count": 31
        }
      ]
    },
    {
      "cell_type": "markdown",
      "metadata": {
        "id": "AFiVmAafH2wP",
        "colab_type": "text"
      },
      "source": [
        "**Observation :**\n",
        "\n",
        "This can be observed from the chi square test that all the variables are independent and are significant and thus all the variables should be included in our logistic regression model."
      ]
    },
    {
      "cell_type": "markdown",
      "metadata": {
        "id": "hKWWIe-FIFUB",
        "colab_type": "text"
      },
      "source": [
        "**Logistic Regression Model Building:**"
      ]
    },
    {
      "cell_type": "code",
      "metadata": {
        "id": "xMfjbQ8lpGLK",
        "colab_type": "code",
        "colab": {
          "base_uri": "https://localhost:8080/",
          "height": 34
        },
        "outputId": "b2bc1bc0-7441-43dc-cbc4-9aba1868e137"
      },
      "source": [
        "from pyspark.mllib.classification import LogisticRegressionWithLBFGS\n",
        "\n",
        "t0 = time()\n",
        "logit_model = LogisticRegressionWithLBFGS.train(train_data)\n",
        "tt = time() - t0\n",
        "\n",
        "print(\"Classifier trained in {} seconds\".format(round(tt,3)))"
      ],
      "execution_count": null,
      "outputs": [
        {
          "output_type": "stream",
          "text": [
            "Classifier trained in 5.832 seconds\n"
          ],
          "name": "stdout"
        }
      ]
    },
    {
      "cell_type": "markdown",
      "metadata": {
        "id": "BVrN_aZVILGf",
        "colab_type": "text"
      },
      "source": [
        "**Model Evaluation:**"
      ]
    },
    {
      "cell_type": "code",
      "metadata": {
        "id": "QwY_6PHJqZ2q",
        "colab_type": "code",
        "colab": {
          "base_uri": "https://localhost:8080/",
          "height": 34
        },
        "outputId": "b112722c-552b-4ff4-b841-41c5913ebb0d"
      },
      "source": [
        "LR_labels_and_preds = test_data.map(lambda p: (p.label, logit_model.predict(p.features)))\n",
        "\n",
        "t0 = time()\n",
        "LR_test_accuracy = LR_labels_and_preds.filter(lambda p: p[0] == p[1]).count() / float(test_data.count())\n",
        "tt = time() - t0\n",
        "\n",
        "print(\"Prediction made in {} seconds. Test accuracy is {}\".format(round(tt,3), round(LR_test_accuracy,4)))"
      ],
      "execution_count": null,
      "outputs": [
        {
          "output_type": "stream",
          "text": [
            "Prediction made in 0.389 seconds. Test accuracy is 0.7729\n"
          ],
          "name": "stdout"
        }
      ]
    },
    {
      "cell_type": "markdown",
      "metadata": {
        "id": "si04sCc6IfG3",
        "colab_type": "text"
      },
      "source": [
        "**Observation :**\n",
        "\n",
        "The decision tree model here performs much better than the logistic regression model for this data. Hence, for this data Decision Tree Model is better for doing predictive analytics."
      ]
    },
    {
      "cell_type": "markdown",
      "metadata": {
        "id": "meNYm5VVIVDk",
        "colab_type": "text"
      },
      "source": [
        "# 7. Conclusion:"
      ]
    },
    {
      "cell_type": "markdown",
      "metadata": {
        "id": "vdzp_2X6MBBM",
        "colab_type": "text"
      },
      "source": [
        "* Through the analysis, it is found that the satisfaction level is the key deciding factor to leave the job, hence managing the level of satisfaction is important to keep employees with the firm.\n",
        "\n",
        "*\tOne of the ways to increase employee satisfaction can be through increasing the pay, especially among the lower paid employees.\n",
        "\n",
        "*\tIf employee’s satisfaction level is higher than 0.46, they do not quit in a short period (4.5 years).\n",
        "\n",
        "*\tHowever, if satisfaction level is lower than 0.46, then other factors become important for the resignation decision, such as number of projects they are working on or the working hours. So, if an employee’s satisfaction is low and he/she is overworked, then there is a high chance of resignation.\n",
        "\n",
        "*\tOne interesting finding was that, if an employee is working in the company for more than 4 years and have very high evaluation scores and are spending more time working, they tend to leave the company. If an employee is passionate about his work and thinks that they aren’t paid what they deserve, then they might leave the company. Salary hikes and increasing number of promotions becomes crucial for retention for such employees.\n",
        "\n",
        "*\tThese results can be further brain-stormed and effective methods can be implemented by the firm in order to retain top talents and keep them from leaving.\n"
      ]
    }
  ]
}