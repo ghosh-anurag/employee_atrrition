{
 "cells": [
  {
   "cell_type": "markdown",
   "metadata": {},
   "source": [
    "\n",
    "\n",
    "---\n",
    "\n",
    "\n",
    "\n",
    "\n",
    "\n",
    "\n",
    "![picture](https://i.ibb.co/j4jy5TF/Advanced-analytics-Employee-Attrition-1200-630.jpg)\n",
    "\n",
    "\n",
    "\n",
    "---\n",
    "\n",
    "\n"
   ]
  },
  {
   "cell_type": "markdown",
   "metadata": {},
   "source": [
    "# A. Objective:\n",
    "\n",
    "* To understand Employee Attrition\n",
    "* To predict the employees who are likely leave the company in the future"
   ]
  },
  {
   "cell_type": "markdown",
   "metadata": {},
   "source": [
    "# B. Data Description:\n",
    "\n",
    "Data Source : [Kaggle](https://www.kaggle.com/dineshsagar66/hr-analytics-people-management)\n",
    "\n",
    "The data has 14999 rows & 10 columns.\n",
    "\n",
    "**Feature Details** :\n",
    "\n",
    "1. **satisfaction_level**: Employee satisfaction level score between 0 and 1\n",
    "\n",
    "2. **last_evaluation**: Last evaluation score given to the employee\n",
    "\n",
    "3. **number_project**: Number of projects worked on per year\n",
    "\n",
    "4. **average_monthly_hours**: Average monthly working hours\n",
    "\n",
    "5. **time_spend_company**: Time spent in the company in years\n",
    "\n",
    "6. **work_accident**: Whether they have had a work accident in the last 2 years\n",
    "\n",
    "7. **promotion_last_5years**: Whether they have had a promotion in the last 5 years\n",
    "\n",
    "8. **department**: Department the employee is working in\n",
    "\n",
    "9. **salary**: Salary of the employee (low, medium, high)\n",
    "\n",
    "10. **left**: Whether the employee has left or is still working"
   ]
  },
  {
   "cell_type": "markdown",
   "metadata": {},
   "source": [
    "# C. Importing Required Libraries & data:"
   ]
  },
  {
   "cell_type": "code",
   "execution_count": 1,
   "metadata": {},
   "outputs": [],
   "source": [
    "import pandas as pd\n",
    "import numpy as np\n",
    "import matplotlib.pyplot as plt\n",
    "import seaborn as sns\n",
    "%matplotlib inline\n",
    "\n",
    "from sklearn.metrics import classification_report,confusion_matrix"
   ]
  },
  {
   "cell_type": "code",
   "execution_count": 2,
   "metadata": {},
   "outputs": [],
   "source": [
    "# importing the data\n",
    "emp = pd.read_csv('employee.csv')"
   ]
  },
  {
   "cell_type": "markdown",
   "metadata": {},
   "source": [
    "# D. Exploratory Data Analysis"
   ]
  },
  {
   "cell_type": "markdown",
   "metadata": {},
   "source": [
    "### D1. Exploring first 5 rows of data\n",
    "- **4 categorical features** --> 'work_accident', 'promotion_last_5years, 'department' , 'salary'\n",
    "- **5 numerical features** --> 'satisfaction_level', 'last_evaluation', 'number_project', 'average_monthly_hours', 'time_spend_company'\n",
    "- The target variable is categorical"
   ]
  },
  {
   "cell_type": "code",
   "execution_count": 3,
   "metadata": {},
   "outputs": [
    {
     "data": {
      "text/html": [
       "<div>\n",
       "<style scoped>\n",
       "    .dataframe tbody tr th:only-of-type {\n",
       "        vertical-align: middle;\n",
       "    }\n",
       "\n",
       "    .dataframe tbody tr th {\n",
       "        vertical-align: top;\n",
       "    }\n",
       "\n",
       "    .dataframe thead th {\n",
       "        text-align: right;\n",
       "    }\n",
       "</style>\n",
       "<table border=\"1\" class=\"dataframe\">\n",
       "  <thead>\n",
       "    <tr style=\"text-align: right;\">\n",
       "      <th></th>\n",
       "      <th>satisfaction_level</th>\n",
       "      <th>last_evaluation</th>\n",
       "      <th>number_project</th>\n",
       "      <th>average_monthly_hours</th>\n",
       "      <th>time_spend_company</th>\n",
       "      <th>work_accident</th>\n",
       "      <th>promotion_last_5years</th>\n",
       "      <th>department</th>\n",
       "      <th>salary</th>\n",
       "      <th>left</th>\n",
       "    </tr>\n",
       "  </thead>\n",
       "  <tbody>\n",
       "    <tr>\n",
       "      <td>0</td>\n",
       "      <td>0.41</td>\n",
       "      <td>0.46</td>\n",
       "      <td>2</td>\n",
       "      <td>128</td>\n",
       "      <td>3</td>\n",
       "      <td>0</td>\n",
       "      <td>0</td>\n",
       "      <td>accounting</td>\n",
       "      <td>low</td>\n",
       "      <td>1</td>\n",
       "    </tr>\n",
       "    <tr>\n",
       "      <td>1</td>\n",
       "      <td>0.65</td>\n",
       "      <td>0.76</td>\n",
       "      <td>4</td>\n",
       "      <td>171</td>\n",
       "      <td>4</td>\n",
       "      <td>0</td>\n",
       "      <td>0</td>\n",
       "      <td>technical</td>\n",
       "      <td>low</td>\n",
       "      <td>0</td>\n",
       "    </tr>\n",
       "    <tr>\n",
       "      <td>2</td>\n",
       "      <td>0.94</td>\n",
       "      <td>0.52</td>\n",
       "      <td>3</td>\n",
       "      <td>273</td>\n",
       "      <td>3</td>\n",
       "      <td>0</td>\n",
       "      <td>0</td>\n",
       "      <td>product_mng</td>\n",
       "      <td>high</td>\n",
       "      <td>0</td>\n",
       "    </tr>\n",
       "    <tr>\n",
       "      <td>3</td>\n",
       "      <td>0.92</td>\n",
       "      <td>0.99</td>\n",
       "      <td>4</td>\n",
       "      <td>245</td>\n",
       "      <td>4</td>\n",
       "      <td>0</td>\n",
       "      <td>0</td>\n",
       "      <td>IT</td>\n",
       "      <td>medium</td>\n",
       "      <td>0</td>\n",
       "    </tr>\n",
       "    <tr>\n",
       "      <td>4</td>\n",
       "      <td>0.43</td>\n",
       "      <td>0.46</td>\n",
       "      <td>2</td>\n",
       "      <td>126</td>\n",
       "      <td>3</td>\n",
       "      <td>0</td>\n",
       "      <td>0</td>\n",
       "      <td>sales</td>\n",
       "      <td>medium</td>\n",
       "      <td>1</td>\n",
       "    </tr>\n",
       "  </tbody>\n",
       "</table>\n",
       "</div>"
      ],
      "text/plain": [
       "   satisfaction_level  last_evaluation  number_project  average_monthly_hours  \\\n",
       "0                0.41             0.46               2                    128   \n",
       "1                0.65             0.76               4                    171   \n",
       "2                0.94             0.52               3                    273   \n",
       "3                0.92             0.99               4                    245   \n",
       "4                0.43             0.46               2                    126   \n",
       "\n",
       "   time_spend_company  work_accident  promotion_last_5years   department  \\\n",
       "0                   3              0                      0   accounting   \n",
       "1                   4              0                      0    technical   \n",
       "2                   3              0                      0  product_mng   \n",
       "3                   4              0                      0           IT   \n",
       "4                   3              0                      0        sales   \n",
       "\n",
       "   salary  left  \n",
       "0     low     1  \n",
       "1     low     0  \n",
       "2    high     0  \n",
       "3  medium     0  \n",
       "4  medium     1  "
      ]
     },
     "execution_count": 3,
     "metadata": {},
     "output_type": "execute_result"
    }
   ],
   "source": [
    "emp.head()"
   ]
  },
  {
   "cell_type": "markdown",
   "metadata": {},
   "source": [
    "### D2. Exploring shape of dataframe & column data types"
   ]
  },
  {
   "cell_type": "code",
   "execution_count": 4,
   "metadata": {},
   "outputs": [
    {
     "name": "stdout",
     "output_type": "stream",
     "text": [
      "<class 'pandas.core.frame.DataFrame'>\n",
      "RangeIndex: 14999 entries, 0 to 14998\n",
      "Data columns (total 10 columns):\n",
      "satisfaction_level       14999 non-null float64\n",
      "last_evaluation          14999 non-null float64\n",
      "number_project           14999 non-null int64\n",
      "average_monthly_hours    14999 non-null int64\n",
      "time_spend_company       14999 non-null int64\n",
      "work_accident            14999 non-null int64\n",
      "promotion_last_5years    14999 non-null int64\n",
      "department               14999 non-null object\n",
      "salary                   14999 non-null object\n",
      "left                     14999 non-null int64\n",
      "dtypes: float64(2), int64(6), object(2)\n",
      "memory usage: 1.1+ MB\n"
     ]
    }
   ],
   "source": [
    "emp.info()"
   ]
  },
  {
   "cell_type": "markdown",
   "metadata": {},
   "source": [
    "**Observations:**\n",
    "- We note that the dataset has 10 columns and 14999 records\n",
    "- Also it is seen that the categorical columns of 'department' & 'salary' have object data type"
   ]
  },
  {
   "cell_type": "markdown",
   "metadata": {},
   "source": [
    "**Action** - Changing the data type of 'department','promotion_last_5years' and 'work_accident' columns to category:"
   ]
  },
  {
   "cell_type": "code",
   "execution_count": 5,
   "metadata": {},
   "outputs": [],
   "source": [
    "emp['department'] = emp['department'].astype('category')\n",
    "emp['promotion_last_5years'] = emp['promotion_last_5years'].astype('category')\n",
    "emp['work_accident'] = emp['work_accident'].astype('category')"
   ]
  },
  {
   "cell_type": "markdown",
   "metadata": {},
   "source": [
    "**Action** - Changing the data type of 'salary' column to category along with specifiying the order:"
   ]
  },
  {
   "cell_type": "code",
   "execution_count": 6,
   "metadata": {},
   "outputs": [
    {
     "data": {
      "text/plain": [
       "0     low\n",
       "1     low\n",
       "2    high\n",
       "Name: salary, dtype: category\n",
       "Categories (3, object): [low < medium < high]"
      ]
     },
     "execution_count": 6,
     "metadata": {},
     "output_type": "execute_result"
    }
   ],
   "source": [
    "from pandas.api.types import CategoricalDtype\n",
    "\n",
    "cat_type = CategoricalDtype(categories=[\"low\", \"medium\", \"high\"],ordered=True)\n",
    "\n",
    "emp['salary'] = emp['salary'].astype(cat_type)\n",
    "\n",
    "emp['salary'].head(3)"
   ]
  },
  {
   "cell_type": "markdown",
   "metadata": {},
   "source": [
    "### D3. Checking for duplicates"
   ]
  },
  {
   "cell_type": "code",
   "execution_count": 7,
   "metadata": {
    "scrolled": false
   },
   "outputs": [
    {
     "data": {
      "text/plain": [
       "(11991, 10)"
      ]
     },
     "execution_count": 7,
     "metadata": {},
     "output_type": "execute_result"
    }
   ],
   "source": [
    "# dropping rows that have exactly same value for all features\n",
    "emp.drop_duplicates(inplace=True)\n",
    "\n",
    "# re-checking the dataframe's shape\n",
    "emp.shape "
   ]
  },
  {
   "cell_type": "markdown",
   "metadata": {},
   "source": [
    "There were 3008 duplicate observations. For now, we drop them from the dataset. "
   ]
  },
  {
   "cell_type": "markdown",
   "metadata": {},
   "source": [
    "### D4. Checking for any missing values"
   ]
  },
  {
   "cell_type": "code",
   "execution_count": 8,
   "metadata": {},
   "outputs": [
    {
     "data": {
      "text/plain": [
       "satisfaction_level       0\n",
       "last_evaluation          0\n",
       "number_project           0\n",
       "average_monthly_hours    0\n",
       "time_spend_company       0\n",
       "work_accident            0\n",
       "promotion_last_5years    0\n",
       "department               0\n",
       "salary                   0\n",
       "left                     0\n",
       "dtype: int64"
      ]
     },
     "execution_count": 8,
     "metadata": {},
     "output_type": "execute_result"
    }
   ],
   "source": [
    "#checking number of missing values in each column\n",
    "emp.isna().sum()"
   ]
  },
  {
   "cell_type": "markdown",
   "metadata": {},
   "source": [
    "**Observation:**\n",
    "\n",
    "There are no missing values in any column."
   ]
  },
  {
   "cell_type": "markdown",
   "metadata": {},
   "source": [
    "### D5. Checking for class imbalance between 'working' and 'left' employee records (target variable)"
   ]
  },
  {
   "cell_type": "code",
   "execution_count": 9,
   "metadata": {},
   "outputs": [
    {
     "name": "stdout",
     "output_type": "stream",
     "text": [
      "Count of working employees(0) and ex-employees(1):\n"
     ]
    },
    {
     "data": {
      "text/plain": [
       "0    10000\n",
       "1     1991\n",
       "Name: left, dtype: int64"
      ]
     },
     "execution_count": 9,
     "metadata": {},
     "output_type": "execute_result"
    }
   ],
   "source": [
    "# count of 'working' and 'left' employees:\n",
    "\n",
    "print('Count of working employees(0) and ex-employees(1):')\n",
    "emp['left'].value_counts()"
   ]
  },
  {
   "cell_type": "markdown",
   "metadata": {},
   "source": [
    "**Observatons:**\n",
    "- We note that there is imbalance between the 'working' and 'left' classes.\n",
    "- Only **16%** records for **'left'** class while rest **84%** for **'working'** class\n",
    "\n",
    "This imbalance needs to be addressed before proceeding with any modelling"
   ]
  },
  {
   "cell_type": "markdown",
   "metadata": {},
   "source": [
    "### D6. Exploring statistical summary"
   ]
  },
  {
   "cell_type": "code",
   "execution_count": 10,
   "metadata": {},
   "outputs": [
    {
     "name": "stdout",
     "output_type": "stream",
     "text": [
      "Statistical summary of numerical features of all employees: \n",
      "\n"
     ]
    },
    {
     "data": {
      "text/html": [
       "<div>\n",
       "<style scoped>\n",
       "    .dataframe tbody tr th:only-of-type {\n",
       "        vertical-align: middle;\n",
       "    }\n",
       "\n",
       "    .dataframe tbody tr th {\n",
       "        vertical-align: top;\n",
       "    }\n",
       "\n",
       "    .dataframe thead th {\n",
       "        text-align: right;\n",
       "    }\n",
       "</style>\n",
       "<table border=\"1\" class=\"dataframe\">\n",
       "  <thead>\n",
       "    <tr style=\"text-align: right;\">\n",
       "      <th></th>\n",
       "      <th>satisfaction_level</th>\n",
       "      <th>last_evaluation</th>\n",
       "      <th>number_project</th>\n",
       "      <th>average_monthly_hours</th>\n",
       "      <th>time_spend_company</th>\n",
       "      <th>left</th>\n",
       "    </tr>\n",
       "  </thead>\n",
       "  <tbody>\n",
       "    <tr>\n",
       "      <td>count</td>\n",
       "      <td>11991.000000</td>\n",
       "      <td>11991.000000</td>\n",
       "      <td>11991.000000</td>\n",
       "      <td>11991.000000</td>\n",
       "      <td>11991.000000</td>\n",
       "      <td>11991.000000</td>\n",
       "    </tr>\n",
       "    <tr>\n",
       "      <td>mean</td>\n",
       "      <td>0.629658</td>\n",
       "      <td>0.716683</td>\n",
       "      <td>3.802852</td>\n",
       "      <td>200.473522</td>\n",
       "      <td>3.364857</td>\n",
       "      <td>0.166041</td>\n",
       "    </tr>\n",
       "    <tr>\n",
       "      <td>std</td>\n",
       "      <td>0.241070</td>\n",
       "      <td>0.168343</td>\n",
       "      <td>1.163238</td>\n",
       "      <td>48.727813</td>\n",
       "      <td>1.330240</td>\n",
       "      <td>0.372133</td>\n",
       "    </tr>\n",
       "    <tr>\n",
       "      <td>min</td>\n",
       "      <td>0.090000</td>\n",
       "      <td>0.360000</td>\n",
       "      <td>2.000000</td>\n",
       "      <td>96.000000</td>\n",
       "      <td>2.000000</td>\n",
       "      <td>0.000000</td>\n",
       "    </tr>\n",
       "    <tr>\n",
       "      <td>25%</td>\n",
       "      <td>0.480000</td>\n",
       "      <td>0.570000</td>\n",
       "      <td>3.000000</td>\n",
       "      <td>157.000000</td>\n",
       "      <td>3.000000</td>\n",
       "      <td>0.000000</td>\n",
       "    </tr>\n",
       "    <tr>\n",
       "      <td>50%</td>\n",
       "      <td>0.660000</td>\n",
       "      <td>0.720000</td>\n",
       "      <td>4.000000</td>\n",
       "      <td>200.000000</td>\n",
       "      <td>3.000000</td>\n",
       "      <td>0.000000</td>\n",
       "    </tr>\n",
       "    <tr>\n",
       "      <td>75%</td>\n",
       "      <td>0.820000</td>\n",
       "      <td>0.860000</td>\n",
       "      <td>5.000000</td>\n",
       "      <td>243.000000</td>\n",
       "      <td>4.000000</td>\n",
       "      <td>0.000000</td>\n",
       "    </tr>\n",
       "    <tr>\n",
       "      <td>max</td>\n",
       "      <td>1.000000</td>\n",
       "      <td>1.000000</td>\n",
       "      <td>7.000000</td>\n",
       "      <td>310.000000</td>\n",
       "      <td>10.000000</td>\n",
       "      <td>1.000000</td>\n",
       "    </tr>\n",
       "  </tbody>\n",
       "</table>\n",
       "</div>"
      ],
      "text/plain": [
       "       satisfaction_level  last_evaluation  number_project  \\\n",
       "count        11991.000000     11991.000000    11991.000000   \n",
       "mean             0.629658         0.716683        3.802852   \n",
       "std              0.241070         0.168343        1.163238   \n",
       "min              0.090000         0.360000        2.000000   \n",
       "25%              0.480000         0.570000        3.000000   \n",
       "50%              0.660000         0.720000        4.000000   \n",
       "75%              0.820000         0.860000        5.000000   \n",
       "max              1.000000         1.000000        7.000000   \n",
       "\n",
       "       average_monthly_hours  time_spend_company          left  \n",
       "count           11991.000000        11991.000000  11991.000000  \n",
       "mean              200.473522            3.364857      0.166041  \n",
       "std                48.727813            1.330240      0.372133  \n",
       "min                96.000000            2.000000      0.000000  \n",
       "25%               157.000000            3.000000      0.000000  \n",
       "50%               200.000000            3.000000      0.000000  \n",
       "75%               243.000000            4.000000      0.000000  \n",
       "max               310.000000           10.000000      1.000000  "
      ]
     },
     "execution_count": 10,
     "metadata": {},
     "output_type": "execute_result"
    }
   ],
   "source": [
    "print('Statistical summary of numerical features of all employees: \\n')\n",
    "emp.describe()"
   ]
  },
  {
   "cell_type": "markdown",
   "metadata": {},
   "source": [
    "**Observations :**\n",
    "\n",
    "* The average employee satisfaction level is 63% across the firm\n",
    "\n",
    "* The average last evaluation score is 0.72 (out of 1) across the firm \n",
    "\n",
    "* On an average, an employee has worked on 3 to 4 projects (3.8 mean)\n",
    "\n",
    "* On an average employees put in 200 hours of work across the firm\n",
    "\n",
    "* An average employee worked almost 3.4 years in the company. Minimum number of working years among  employees are 2 & maximum are 10\n",
    "\n",
    "* Employee churn rate is 16.6%"
   ]
  },
  {
   "cell_type": "markdown",
   "metadata": {},
   "source": [
    "### D7. Exploring distribution of records for each feature across 'working' employees & 'left' employees"
   ]
  },
  {
   "cell_type": "code",
   "execution_count": 11,
   "metadata": {},
   "outputs": [],
   "source": [
    "emp_left = emp[emp['left']==1].drop('left',axis=1)\n",
    "emp_working = emp[emp['left']==0].drop('left',axis=1)"
   ]
  },
  {
   "cell_type": "markdown",
   "metadata": {},
   "source": [
    "**1. Satisfaction Levels in 'working' and 'left' employees**"
   ]
  },
  {
   "cell_type": "code",
   "execution_count": 12,
   "metadata": {},
   "outputs": [
    {
     "data": {
      "image/png": "[encoded data removed]",
      "text/plain": [
       "<Figure size 432x288 with 1 Axes>"
      ]
     },
     "metadata": {
      "needs_background": "light"
     },
     "output_type": "display_data"
    }
   ],
   "source": [
    "plt.figure()\n",
    "sns.distplot(emp_left['satisfaction_level'], kde=False, color='red', label='Left')\n",
    "sns.distplot(emp_working['satisfaction_level'], kde=False, color='green', label='Working')\n",
    "plt.legend()\n",
    "plt.show()"
   ]
  },
  {
   "cell_type": "markdown",
   "metadata": {},
   "source": [
    "**Observations:**\n",
    "- Majority of employees who left had low satisfaction levels\n",
    "- Majority of employees who are working have relatively higher satisfaction levels\n",
    "- This suggests that employees with lower satisfaction scores are more likely to leave"
   ]
  },
  {
   "cell_type": "markdown",
   "metadata": {},
   "source": [
    "**2. Last evaluation scores of 'working' and 'left' employees**"
   ]
  },
  {
   "cell_type": "code",
   "execution_count": 13,
   "metadata": {},
   "outputs": [
    {
     "data": {
      "image/png": "[encoded data removed]",
      "text/plain": [
       "<Figure size 432x288 with 1 Axes>"
      ]
     },
     "metadata": {
      "needs_background": "light"
     },
     "output_type": "display_data"
    }
   ],
   "source": [
    "plt.figure()\n",
    "sns.distplot(emp_left['last_evaluation'], kde=False, color='red', label='Left')\n",
    "sns.distplot(emp_working['last_evaluation'], kde=False, color='green', label='Working')\n",
    "plt.legend()\n",
    "plt.show()"
   ]
  },
  {
   "cell_type": "markdown",
   "metadata": {},
   "source": [
    "**Observation:**\n",
    "- Employees who left, their last evaluation scores broadly fall into two categories - low , high"
   ]
  },
  {
   "cell_type": "markdown",
   "metadata": {},
   "source": [
    "**3. No. of projects of per year of 'working' and 'left' employees**"
   ]
  },
  {
   "cell_type": "code",
   "execution_count": 14,
   "metadata": {},
   "outputs": [
    {
     "data": {
      "image/png": "[encoded data removed]",
      "text/plain": [
       "<Figure size 432x288 with 1 Axes>"
      ]
     },
     "metadata": {
      "needs_background": "light"
     },
     "output_type": "display_data"
    }
   ],
   "source": [
    "plt.figure()\n",
    "sns.distplot(emp_left['number_project'], kde=False, color='red', label='Left')\n",
    "sns.distplot(emp_working['number_project'], kde=False, color='green', label='Working')\n",
    "plt.legend()\n",
    "plt.show()"
   ]
  },
  {
   "cell_type": "markdown",
   "metadata": {},
   "source": [
    "**4. Average monthly hours put in by 'working' and 'left' employees**"
   ]
  },
  {
   "cell_type": "code",
   "execution_count": 15,
   "metadata": {},
   "outputs": [
    {
     "data": {
      "image/png": "[encoded data removed]",
      "text/plain": [
       "<Figure size 432x288 with 1 Axes>"
      ]
     },
     "metadata": {
      "needs_background": "light"
     },
     "output_type": "display_data"
    }
   ],
   "source": [
    "plt.figure()\n",
    "sns.distplot(emp_left['average_monthly_hours'], kde=False, color='red', label='Left')\n",
    "sns.distplot(emp_working['average_monthly_hours'], kde=False, color='green', label='Working')\n",
    "plt.legend()\n",
    "plt.show()"
   ]
  },
  {
   "cell_type": "markdown",
   "metadata": {},
   "source": [
    "**Observations:**\n",
    "- Average monthly hours for employees who left broadly fall into 2 groups - low and high. \n",
    "- 'left' group with low monthly hours indicates lack of effort which could be due to lack of motivation, disinterest or dissatisfaction which if not addressed leads to quitting.\n",
    "- 'left' group with high monthly hours could have multiple reasons for leaving like lack of recognition, burnout, better opportunities. This needs to be explored further by discussions with such employees."
   ]
  },
  {
   "cell_type": "markdown",
   "metadata": {},
   "source": [
    "**5. Employment period for 'working' and 'left' employees**"
   ]
  },
  {
   "cell_type": "code",
   "execution_count": 16,
   "metadata": {},
   "outputs": [
    {
     "data": {
      "image/png": "[encoded data removed]",
      "text/plain": [
       "<Figure size 432x288 with 1 Axes>"
      ]
     },
     "metadata": {
      "needs_background": "light"
     },
     "output_type": "display_data"
    }
   ],
   "source": [
    "plt.figure()\n",
    "sns.distplot(emp_left['time_spend_company'], kde=False, color='red', label='Left')\n",
    "sns.distplot(emp_working['time_spend_company'], kde=False, color='green', label='Working')\n",
    "plt.legend()\n",
    "plt.show()"
   ]
  },
  {
   "cell_type": "markdown",
   "metadata": {},
   "source": [
    "**Observations:**\n",
    "- Attrition is higher in employees with 3-5 years employment period\n",
    "- Lower attrition in higher ranges of employment period, 6 & above years and the lower range around 2 years"
   ]
  },
  {
   "cell_type": "markdown",
   "metadata": {},
   "source": [
    "**6. Work accidents for 'working' and 'left' employees**"
   ]
  },
  {
   "cell_type": "code",
   "execution_count": 17,
   "metadata": {},
   "outputs": [
    {
     "data": {
      "image/png": "[encoded data removed]",
      "text/plain": [
       "<Figure size 432x288 with 1 Axes>"
      ]
     },
     "metadata": {
      "needs_background": "light"
     },
     "output_type": "display_data"
    }
   ],
   "source": [
    "sns.countplot(x='work_accident',data=emp, hue='left')\n",
    "plt.show()"
   ]
  },
  {
   "cell_type": "markdown",
   "metadata": {},
   "source": [
    "**7. Absolute attrition across departments** "
   ]
  },
  {
   "cell_type": "code",
   "execution_count": 18,
   "metadata": {},
   "outputs": [
    {
     "data": {
      "image/png": "[encoded data removed]",
      "text/plain": [
       "<Figure size 432x288 with 1 Axes>"
      ]
     },
     "metadata": {
      "needs_background": "light"
     },
     "output_type": "display_data"
    }
   ],
   "source": [
    "sns.countplot(x='department',data=emp, hue='left')\n",
    "plt.xticks(rotation=90)\n",
    "plt.show()"
   ]
  },
  {
   "cell_type": "markdown",
   "metadata": {},
   "source": [
    "**Observation:**\n",
    "\n",
    "Absolute attrition is higher in Sales, Support & Technical departments"
   ]
  },
  {
   "cell_type": "markdown",
   "metadata": {},
   "source": [
    "**8. Percentage attrition across departments**"
   ]
  },
  {
   "cell_type": "code",
   "execution_count": 19,
   "metadata": {},
   "outputs": [
    {
     "data": {
      "image/png": "[encoded data removed]",
      "text/plain": [
       "<Figure size 432x288 with 1 Axes>"
      ]
     },
     "metadata": {
      "needs_background": "light"
     },
     "output_type": "display_data"
    }
   ],
   "source": [
    "sns.barplot(x='department', y='left', data=emp, estimator=lambda x: sum(x==1)*100.0/len(x))\n",
    "plt.ylabel('Percentage of Employees left')\n",
    "plt.xlabel('Departments')\n",
    "plt.title('Department-wise Percentage of Employees Leaving ')\n",
    "plt.xticks(rotation=90)\n",
    "plt.yticks(ticks=range(0,21,2))\n",
    "plt.show()"
   ]
  },
  {
   "cell_type": "markdown",
   "metadata": {},
   "source": [
    "**Observation:**\n",
    "- The attrition rate is around 12% in Management & RandD departments while for the rest it is between 16% to 19%."
   ]
  },
  {
   "cell_type": "markdown",
   "metadata": {},
   "source": [
    "**9. Percentatge employee attrition basis salary levels**"
   ]
  },
  {
   "cell_type": "code",
   "execution_count": 20,
   "metadata": {},
   "outputs": [
    {
     "data": {
      "image/png": "[encoded data removed]",
      "text/plain": [
       "<Figure size 432x288 with 1 Axes>"
      ]
     },
     "metadata": {
      "needs_background": "light"
     },
     "output_type": "display_data"
    }
   ],
   "source": [
    "sns.barplot(x='salary', y='left', data=emp, estimator=lambda x: sum(x==1)*100.0/len(x))\n",
    "plt.ylabel('Percentage of Employees left')\n",
    "plt.xlabel('Salary Group')\n",
    "plt.title('Salary-wise Percentage of Employees Leaving ')\n",
    "plt.yticks(ticks=range(0,22,3))\n",
    "plt.show()"
   ]
  },
  {
   "cell_type": "markdown",
   "metadata": {},
   "source": [
    "**Observations:**\n",
    "- Low salary group has the highest attrition percentage, followed by medium and high salary group.\n",
    "- At lower salary levels, the compensation plays a major role in an employee's decision to switch. As salary levels increase other factors like company culture, employee recognition, job role start to also come into decision making process in addition to salary. So at higher salary level it migh happen that a person is getting a better offer but he will not switch as he like's current company's culture.   "
   ]
  },
  {
   "cell_type": "markdown",
   "metadata": {},
   "source": [
    "**10. Promotion in last 5 years for 'working' & 'left' employees**"
   ]
  },
  {
   "cell_type": "code",
   "execution_count": 21,
   "metadata": {},
   "outputs": [
    {
     "data": {
      "image/png": "[encoded data removed]",
      "text/plain": [
       "<Figure size 432x288 with 1 Axes>"
      ]
     },
     "metadata": {
      "needs_background": "light"
     },
     "output_type": "display_data"
    }
   ],
   "source": [
    "sns.countplot(x='promotion_last_5years',data=emp, hue='left')\n",
    "plt.show()"
   ]
  },
  {
   "cell_type": "markdown",
   "metadata": {},
   "source": [
    "**Observation:**\n",
    "\n",
    "Almost none of the employees who left had promotion in last 5 years"
   ]
  },
  {
   "cell_type": "markdown",
   "metadata": {},
   "source": [
    "# E. Checking significance of categorical features using Chi-Square Test"
   ]
  },
  {
   "cell_type": "code",
   "execution_count": 22,
   "metadata": {},
   "outputs": [
    {
     "name": "stdout",
     "output_type": "stream",
     "text": [
      "\n",
      " CHI SQUARE TEST OF INDEPENDENCE for  work_accident  and Employee Attrition\n",
      "\n",
      "\n",
      "Ho:  work_accident  and Employee Attrition are independent\n",
      "Ha:  work_accident  and Employee Attrition are dependent \n",
      "\n",
      "Chi Square Statistic =  187.7378344525747\n",
      "P-value =  9.911242628423175e-43\n",
      "D.O.F. =  1\n",
      "Conclusion :\n",
      "\t Reject Ho\n",
      "\t Hence, Employee Attrition is dependent on  work_accident\n",
      "\t work_accident  should be considered as a predictor feature for Employee Attrition\n",
      "\n",
      " ----------------------------------------------------------------------------------\n",
      "\n",
      " CHI SQUARE TEST OF INDEPENDENCE for  department  and Employee Attrition\n",
      "\n",
      "\n",
      "Ho:  department  and Employee Attrition are independent\n",
      "Ha:  department  and Employee Attrition are dependent \n",
      "\n",
      "Chi Square Statistic =  20.857513153795892\n",
      "P-value =  0.01329832963300122\n",
      "D.O.F. =  9\n",
      "Conclusion :\n",
      "\t Fail to Reject Ho\n",
      "\t Hence, Employee attrition is not dependent on  department\n",
      "\t department should not be considered as a predictor feature for Employee Attrition\n",
      "\n",
      " ----------------------------------------------------------------------------------\n",
      "\n",
      " CHI SQUARE TEST OF INDEPENDENCE for  salary  and Employee Attrition\n",
      "\n",
      "\n",
      "Ho:  salary  and Employee Attrition are independent\n",
      "Ha:  salary  and Employee Attrition are dependent \n",
      "\n",
      "Chi Square Statistic =  175.21071935727468\n",
      "P-value =  8.9841233574044e-39\n",
      "D.O.F. =  2\n",
      "Conclusion :\n",
      "\t Reject Ho\n",
      "\t Hence, Employee Attrition is dependent on  salary\n",
      "\t salary  should be considered as a predictor feature for Employee Attrition\n",
      "\n",
      " ----------------------------------------------------------------------------------\n",
      "\n",
      " CHI SQUARE TEST OF INDEPENDENCE for  promotion_last_5years  and Employee Attrition\n",
      "\n",
      "\n",
      "Ho:  promotion_last_5years  and Employee Attrition are independent\n",
      "Ha:  promotion_last_5years  and Employee Attrition are dependent \n",
      "\n",
      "Chi Square Statistic =  22.992127549276592\n",
      "P-value =  1.6266615348676462e-06\n",
      "D.O.F. =  1\n",
      "Conclusion :\n",
      "\t Reject Ho\n",
      "\t Hence, Employee Attrition is dependent on  promotion_last_5years\n",
      "\t promotion_last_5years  should be considered as a predictor feature for Employee Attrition\n",
      "\n",
      " ----------------------------------------------------------------------------------\n"
     ]
    }
   ],
   "source": [
    "import scipy.stats as stats\n",
    "\n",
    "for i in ['work_accident', 'department', 'salary', 'promotion_last_5years']:\n",
    "    \n",
    "    print('\\n CHI SQUARE TEST OF INDEPENDENCE for ', i, ' and Employee Attrition')\n",
    "    print('\\n')\n",
    "    print('Ho: ', i, ' and Employee Attrition are independent')\n",
    "    print('Ha: ', i, ' and Employee Attrition are dependent \\n')\n",
    "    \n",
    "    chi_test = stats.chi2_contingency(pd.crosstab(emp[i],emp['left']))\n",
    "    print('Chi Square Statistic = ',chi_test[0])\n",
    "    print('P-value = ',chi_test[1])\n",
    "    print('D.O.F. = ',chi_test[2])\n",
    "    print('Conclusion :')\n",
    "    \n",
    "    if chi_test[1]<0.01:\n",
    "        print('\\t Reject Ho')\n",
    "        print('\\t Hence, Employee Attrition is dependent on ', i)\n",
    "        print('\\t', i, ' should be considered as a predictor feature for Employee Attrition')\n",
    "    else:\n",
    "        print('\\t Fail to Reject Ho')\n",
    "        print('\\t Hence, Employee attrition is not dependent on ', i)\n",
    "        print('\\t',i, 'should not be considered as a predictor feature for Employee Attrition')\n",
    "    print ('\\n ----------------------------------------------------------------------------------')"
   ]
  },
  {
   "cell_type": "markdown",
   "metadata": {},
   "source": [
    "**Observations:**\n",
    "- 3 out of 4 categorical features have significant association with Employee Attrition\n",
    "- Department doesnot have significant association with Employee Attrition"
   ]
  },
  {
   "cell_type": "markdown",
   "metadata": {},
   "source": [
    "# F. Checking multi-collinearity in numerical features "
   ]
  },
  {
   "cell_type": "markdown",
   "metadata": {},
   "source": [
    "**Action to be taken:**\n",
    "\n",
    "At every iteration, the feature with highest VIF score, if above 10, will be dropped, as it means that that feature is highly explained by a combination of the other features."
   ]
  },
  {
   "cell_type": "code",
   "execution_count": 23,
   "metadata": {},
   "outputs": [
    {
     "data": {
      "text/html": [
       "<div>\n",
       "<style scoped>\n",
       "    .dataframe tbody tr th:only-of-type {\n",
       "        vertical-align: middle;\n",
       "    }\n",
       "\n",
       "    .dataframe tbody tr th {\n",
       "        vertical-align: top;\n",
       "    }\n",
       "\n",
       "    .dataframe thead th {\n",
       "        text-align: right;\n",
       "    }\n",
       "</style>\n",
       "<table border=\"1\" class=\"dataframe\">\n",
       "  <thead>\n",
       "    <tr style=\"text-align: right;\">\n",
       "      <th></th>\n",
       "      <th>variables</th>\n",
       "      <th>VIF</th>\n",
       "    </tr>\n",
       "  </thead>\n",
       "  <tbody>\n",
       "    <tr>\n",
       "      <td>0</td>\n",
       "      <td>satisfaction_level</td>\n",
       "      <td>6.669769</td>\n",
       "    </tr>\n",
       "    <tr>\n",
       "      <td>1</td>\n",
       "      <td>last_evaluation</td>\n",
       "      <td>18.743123</td>\n",
       "    </tr>\n",
       "    <tr>\n",
       "      <td>2</td>\n",
       "      <td>number_project</td>\n",
       "      <td>13.524000</td>\n",
       "    </tr>\n",
       "    <tr>\n",
       "      <td>3</td>\n",
       "      <td>average_monthly_hours</td>\n",
       "      <td>17.882954</td>\n",
       "    </tr>\n",
       "    <tr>\n",
       "      <td>4</td>\n",
       "      <td>time_spend_company</td>\n",
       "      <td>7.043206</td>\n",
       "    </tr>\n",
       "  </tbody>\n",
       "</table>\n",
       "</div>"
      ],
      "text/plain": [
       "               variables        VIF\n",
       "0     satisfaction_level   6.669769\n",
       "1        last_evaluation  18.743123\n",
       "2         number_project  13.524000\n",
       "3  average_monthly_hours  17.882954\n",
       "4     time_spend_company   7.043206"
      ]
     },
     "execution_count": 23,
     "metadata": {},
     "output_type": "execute_result"
    }
   ],
   "source": [
    "emp_num = emp[['satisfaction_level', 'last_evaluation', 'number_project', 'average_monthly_hours', 'time_spend_company']]\n",
    "\n",
    "from statsmodels.stats.outliers_influence import variance_inflation_factor\n",
    "\n",
    "def calc_vif(X):\n",
    "\n",
    "    # Calculating VIF\n",
    "    vif = pd.DataFrame()\n",
    "    vif[\"variables\"] = X.columns\n",
    "    vif[\"VIF\"] = [variance_inflation_factor(X.values, i) for i in range(X.shape[1])]\n",
    "\n",
    "    return(vif)\n",
    "\n",
    "calc_vif(emp_num)"
   ]
  },
  {
   "cell_type": "code",
   "execution_count": 24,
   "metadata": {},
   "outputs": [
    {
     "data": {
      "text/html": [
       "<div>\n",
       "<style scoped>\n",
       "    .dataframe tbody tr th:only-of-type {\n",
       "        vertical-align: middle;\n",
       "    }\n",
       "\n",
       "    .dataframe tbody tr th {\n",
       "        vertical-align: top;\n",
       "    }\n",
       "\n",
       "    .dataframe thead th {\n",
       "        text-align: right;\n",
       "    }\n",
       "</style>\n",
       "<table border=\"1\" class=\"dataframe\">\n",
       "  <thead>\n",
       "    <tr style=\"text-align: right;\">\n",
       "      <th></th>\n",
       "      <th>variables</th>\n",
       "      <th>VIF</th>\n",
       "    </tr>\n",
       "  </thead>\n",
       "  <tbody>\n",
       "    <tr>\n",
       "      <td>0</td>\n",
       "      <td>satisfaction_level</td>\n",
       "      <td>5.762419</td>\n",
       "    </tr>\n",
       "    <tr>\n",
       "      <td>1</td>\n",
       "      <td>number_project</td>\n",
       "      <td>12.059074</td>\n",
       "    </tr>\n",
       "    <tr>\n",
       "      <td>2</td>\n",
       "      <td>average_monthly_hours</td>\n",
       "      <td>15.193876</td>\n",
       "    </tr>\n",
       "    <tr>\n",
       "      <td>3</td>\n",
       "      <td>time_spend_company</td>\n",
       "      <td>6.741651</td>\n",
       "    </tr>\n",
       "  </tbody>\n",
       "</table>\n",
       "</div>"
      ],
      "text/plain": [
       "               variables        VIF\n",
       "0     satisfaction_level   5.762419\n",
       "1         number_project  12.059074\n",
       "2  average_monthly_hours  15.193876\n",
       "3     time_spend_company   6.741651"
      ]
     },
     "execution_count": 24,
     "metadata": {},
     "output_type": "execute_result"
    }
   ],
   "source": [
    "emp_num_2 = emp_num.drop('last_evaluation', axis=1)\n",
    "calc_vif(emp_num_2)"
   ]
  },
  {
   "cell_type": "code",
   "execution_count": 25,
   "metadata": {},
   "outputs": [
    {
     "data": {
      "text/html": [
       "<div>\n",
       "<style scoped>\n",
       "    .dataframe tbody tr th:only-of-type {\n",
       "        vertical-align: middle;\n",
       "    }\n",
       "\n",
       "    .dataframe tbody tr th {\n",
       "        vertical-align: top;\n",
       "    }\n",
       "\n",
       "    .dataframe thead th {\n",
       "        text-align: right;\n",
       "    }\n",
       "</style>\n",
       "<table border=\"1\" class=\"dataframe\">\n",
       "  <thead>\n",
       "    <tr style=\"text-align: right;\">\n",
       "      <th></th>\n",
       "      <th>variables</th>\n",
       "      <th>VIF</th>\n",
       "    </tr>\n",
       "  </thead>\n",
       "  <tbody>\n",
       "    <tr>\n",
       "      <td>0</td>\n",
       "      <td>satisfaction_level</td>\n",
       "      <td>4.686486</td>\n",
       "    </tr>\n",
       "    <tr>\n",
       "      <td>1</td>\n",
       "      <td>number_project</td>\n",
       "      <td>7.607831</td>\n",
       "    </tr>\n",
       "    <tr>\n",
       "      <td>2</td>\n",
       "      <td>time_spend_company</td>\n",
       "      <td>6.166896</td>\n",
       "    </tr>\n",
       "  </tbody>\n",
       "</table>\n",
       "</div>"
      ],
      "text/plain": [
       "            variables       VIF\n",
       "0  satisfaction_level  4.686486\n",
       "1      number_project  7.607831\n",
       "2  time_spend_company  6.166896"
      ]
     },
     "execution_count": 25,
     "metadata": {},
     "output_type": "execute_result"
    }
   ],
   "source": [
    "emp_num_3 =  emp_num_2.drop('average_monthly_hours', axis=1)\n",
    "calc_vif(emp_num_3)"
   ]
  },
  {
   "cell_type": "markdown",
   "metadata": {},
   "source": [
    "**So, for modelling purposes below features will be dropped:**\n",
    "- department (based on chi square test results)\n",
    "- last_evaluation & average_monthly_hours (based on VIF Scores)"
   ]
  },
  {
   "cell_type": "markdown",
   "metadata": {},
   "source": [
    "# G. Exploring clusters within 'left' employees to reveal deeper characteristics"
   ]
  },
  {
   "cell_type": "markdown",
   "metadata": {},
   "source": [
    "### G1. Scaling the data before applying KMeans"
   ]
  },
  {
   "cell_type": "code",
   "execution_count": 26,
   "metadata": {},
   "outputs": [
    {
     "data": {
      "text/html": [
       "<div>\n",
       "<style scoped>\n",
       "    .dataframe tbody tr th:only-of-type {\n",
       "        vertical-align: middle;\n",
       "    }\n",
       "\n",
       "    .dataframe tbody tr th {\n",
       "        vertical-align: top;\n",
       "    }\n",
       "\n",
       "    .dataframe thead th {\n",
       "        text-align: right;\n",
       "    }\n",
       "</style>\n",
       "<table border=\"1\" class=\"dataframe\">\n",
       "  <thead>\n",
       "    <tr style=\"text-align: right;\">\n",
       "      <th></th>\n",
       "      <th>satisfaction_level</th>\n",
       "      <th>last_evaluation</th>\n",
       "      <th>number_project</th>\n",
       "      <th>average_monthly_hours</th>\n",
       "      <th>time_spend_company</th>\n",
       "      <th>work_accident</th>\n",
       "      <th>promotion_last_5years</th>\n",
       "      <th>salary</th>\n",
       "    </tr>\n",
       "  </thead>\n",
       "  <tbody>\n",
       "    <tr>\n",
       "      <td>0</td>\n",
       "      <td>0.385542</td>\n",
       "      <td>0.018182</td>\n",
       "      <td>0.0</td>\n",
       "      <td>0.01087</td>\n",
       "      <td>0.25</td>\n",
       "      <td>0.0</td>\n",
       "      <td>0.0</td>\n",
       "      <td>0.0</td>\n",
       "    </tr>\n",
       "    <tr>\n",
       "      <td>1</td>\n",
       "      <td>0.409639</td>\n",
       "      <td>0.018182</td>\n",
       "      <td>0.0</td>\n",
       "      <td>0.00000</td>\n",
       "      <td>0.25</td>\n",
       "      <td>0.0</td>\n",
       "      <td>0.0</td>\n",
       "      <td>0.5</td>\n",
       "    </tr>\n",
       "  </tbody>\n",
       "</table>\n",
       "</div>"
      ],
      "text/plain": [
       "   satisfaction_level  last_evaluation  number_project  average_monthly_hours  \\\n",
       "0            0.385542         0.018182             0.0                0.01087   \n",
       "1            0.409639         0.018182             0.0                0.00000   \n",
       "\n",
       "   time_spend_company  work_accident  promotion_last_5years  salary  \n",
       "0                0.25            0.0                    0.0     0.0  \n",
       "1                0.25            0.0                    0.0     0.5  "
      ]
     },
     "execution_count": 26,
     "metadata": {},
     "output_type": "execute_result"
    }
   ],
   "source": [
    "# Dropping the 'department' column\n",
    "emp_left_2 = emp_left.drop('department',axis=1)\n",
    "\n",
    "# Label encoding the 'salary' column \n",
    "emp_left_2['salary'].replace({'low':1, 'medium':2, 'high':3}, inplace=True)\n",
    "\n",
    "# Scaling the dataset using MinMaxScaler\n",
    "from sklearn.preprocessing import MinMaxScaler\n",
    "\n",
    "scaler = MinMaxScaler(feature_range=(0, 1))\n",
    "\n",
    "emp_left_scaled = scaler.fit_transform(emp_left_2)\n",
    "emp_left_scaled_df = pd.DataFrame(emp_left_scaled,columns=emp_left_2.columns)\n",
    "emp_left_scaled_df.head(2)"
   ]
  },
  {
   "cell_type": "markdown",
   "metadata": {},
   "source": [
    "### G2. Performing KMeans and using Elbow-plot to determine number of clusters"
   ]
  },
  {
   "cell_type": "code",
   "execution_count": 27,
   "metadata": {},
   "outputs": [
    {
     "data": {
      "image/png": "[encoded data removed]",
      "text/plain": [
       "<Figure size 432x288 with 1 Axes>"
      ]
     },
     "metadata": {
      "needs_background": "light"
     },
     "output_type": "display_data"
    }
   ],
   "source": [
    "# Performing KMeans clustering with range of clusters \n",
    "from sklearn.cluster import KMeans\n",
    "\n",
    "inertia = []\n",
    "for n_clusters in range(1, 7):\n",
    "    kmeans = KMeans(n_clusters=n_clusters, random_state=0).fit(emp_left_scaled_df)\n",
    "    inertia.append(kmeans.inertia_ / n_clusters)\n",
    "    \n",
    "# Plotting Elbow Plot to determine number of clusters    \n",
    "inertias = pd.DataFrame({'n_clusters': range(1, 7), 'inertia': inertia})\n",
    "ax = inertias.plot(x='n_clusters', y='inertia')\n",
    "plt.xlabel('Number of clusters(k)')\n",
    "plt.ylabel('Average Within-Cluster Squared Distances')\n",
    "plt.ylim((0, 1.1 * inertias.inertia.max()))\n",
    "ax.legend().set_visible(False)\n",
    "plt.show()    "
   ]
  },
  {
   "cell_type": "markdown",
   "metadata": {},
   "source": [
    "**After 3 clusters, there is very little decrease in Average Within-Cluster Squared Distances, hence 3 clusters should be formed as per Elbow Plot method**"
   ]
  },
  {
   "cell_type": "markdown",
   "metadata": {},
   "source": [
    "### G3. Verifying number of clusters using Silhouette Score"
   ]
  },
  {
   "cell_type": "code",
   "execution_count": 28,
   "metadata": {},
   "outputs": [
    {
     "data": {
      "image/png": "[encoded data removed]",
      "text/plain": [
       "<Figure size 432x288 with 1 Axes>"
      ]
     },
     "metadata": {
      "needs_background": "light"
     },
     "output_type": "display_data"
    }
   ],
   "source": [
    "from sklearn.metrics import silhouette_score\n",
    "\n",
    "sil_score=[]\n",
    "for n_clusters in range(2,9):\n",
    "    clusterer = KMeans(n_clusters=n_clusters)\n",
    "    preds = clusterer.fit_predict(emp_left_scaled_df)\n",
    "    centers = clusterer.cluster_centers_\n",
    "    score = silhouette_score(emp_left_scaled_df, preds)\n",
    "    sil_score.append(score)\n",
    "\n",
    "temp_df = pd.DataFrame({'n_cluster':range(2,9),'sil_score':sil_score})\n",
    "ax = temp_df.plot(x='n_cluster', y='sil_score')\n",
    "plt.xlabel('Number of clusters(k)')\n",
    "plt.ylabel('Silhouette score')\n",
    "plt.ylim((0, 1.1 * temp_df.sil_score.max()))\n",
    "ax.legend().set_visible(False)\n",
    "plt.show() \n",
    "    "
   ]
  },
  {
   "cell_type": "markdown",
   "metadata": {},
   "source": [
    "Silhouette Score also suggests that 3 is a good number of clusters"
   ]
  },
  {
   "cell_type": "markdown",
   "metadata": {},
   "source": [
    "### G4. Final KMeans Clustering using 3 clusters"
   ]
  },
  {
   "cell_type": "code",
   "execution_count": 29,
   "metadata": {},
   "outputs": [
    {
     "data": {
      "text/plain": [
       "KMeans(n_clusters=3, random_state=0)"
      ]
     },
     "execution_count": 29,
     "metadata": {},
     "output_type": "execute_result"
    }
   ],
   "source": [
    "kmeans = KMeans(n_clusters=3, random_state=0)\n",
    "kmeans.fit(emp_left_scaled_df)"
   ]
  },
  {
   "cell_type": "code",
   "execution_count": 30,
   "metadata": {},
   "outputs": [
    {
     "data": {
      "text/html": [
       "<div>\n",
       "<style scoped>\n",
       "    .dataframe tbody tr th:only-of-type {\n",
       "        vertical-align: middle;\n",
       "    }\n",
       "\n",
       "    .dataframe tbody tr th {\n",
       "        vertical-align: top;\n",
       "    }\n",
       "\n",
       "    .dataframe thead th {\n",
       "        text-align: right;\n",
       "    }\n",
       "</style>\n",
       "<table border=\"1\" class=\"dataframe\">\n",
       "  <thead>\n",
       "    <tr style=\"text-align: right;\">\n",
       "      <th></th>\n",
       "      <th>satisfaction_level</th>\n",
       "      <th>last_evaluation</th>\n",
       "      <th>number_project</th>\n",
       "      <th>average_monthly_hours</th>\n",
       "      <th>time_spend_company</th>\n",
       "      <th>work_accident</th>\n",
       "      <th>promotion_last_5years</th>\n",
       "      <th>salary</th>\n",
       "      <th>cluster</th>\n",
       "    </tr>\n",
       "  </thead>\n",
       "  <tbody>\n",
       "    <tr>\n",
       "      <td>0</td>\n",
       "      <td>0.388551</td>\n",
       "      <td>0.123837</td>\n",
       "      <td>0.019348</td>\n",
       "      <td>0.112841</td>\n",
       "      <td>0.255906</td>\n",
       "      <td>0.052868</td>\n",
       "      <td>0.006749</td>\n",
       "      <td>0.215973</td>\n",
       "      <td>1</td>\n",
       "    </tr>\n",
       "    <tr>\n",
       "      <td>1</td>\n",
       "      <td>0.854405</td>\n",
       "      <td>0.838812</td>\n",
       "      <td>0.503411</td>\n",
       "      <td>0.634289</td>\n",
       "      <td>0.765709</td>\n",
       "      <td>0.053860</td>\n",
       "      <td>0.001795</td>\n",
       "      <td>0.216338</td>\n",
       "      <td>2</td>\n",
       "    </tr>\n",
       "    <tr>\n",
       "      <td>2</td>\n",
       "      <td>0.034686</td>\n",
       "      <td>0.745955</td>\n",
       "      <td>0.830092</td>\n",
       "      <td>0.798963</td>\n",
       "      <td>0.518349</td>\n",
       "      <td>0.051376</td>\n",
       "      <td>0.001835</td>\n",
       "      <td>0.220183</td>\n",
       "      <td>3</td>\n",
       "    </tr>\n",
       "  </tbody>\n",
       "</table>\n",
       "</div>"
      ],
      "text/plain": [
       "   satisfaction_level  last_evaluation  number_project  average_monthly_hours  \\\n",
       "0            0.388551         0.123837        0.019348               0.112841   \n",
       "1            0.854405         0.838812        0.503411               0.634289   \n",
       "2            0.034686         0.745955        0.830092               0.798963   \n",
       "\n",
       "   time_spend_company  work_accident  promotion_last_5years    salary  cluster  \n",
       "0            0.255906       0.052868               0.006749  0.215973        1  \n",
       "1            0.765709       0.053860               0.001795  0.216338        2  \n",
       "2            0.518349       0.051376               0.001835  0.220183        3  "
      ]
     },
     "execution_count": 30,
     "metadata": {},
     "output_type": "execute_result"
    }
   ],
   "source": [
    "cluster_means_df = emp_left_scaled_df.groupby(kmeans.labels_).mean()\n",
    "cluster_means_df['cluster'] = [1,2,3]\n",
    "cluster_means_df"
   ]
  },
  {
   "cell_type": "code",
   "execution_count": 31,
   "metadata": {},
   "outputs": [
    {
     "data": {
      "text/html": [
       "<div>\n",
       "<style scoped>\n",
       "    .dataframe tbody tr th:only-of-type {\n",
       "        vertical-align: middle;\n",
       "    }\n",
       "\n",
       "    .dataframe tbody tr th {\n",
       "        vertical-align: top;\n",
       "    }\n",
       "\n",
       "    .dataframe thead th {\n",
       "        text-align: right;\n",
       "    }\n",
       "</style>\n",
       "<table border=\"1\" class=\"dataframe\">\n",
       "  <thead>\n",
       "    <tr style=\"text-align: right;\">\n",
       "      <th></th>\n",
       "      <th>Cluster Count</th>\n",
       "    </tr>\n",
       "  </thead>\n",
       "  <tbody>\n",
       "    <tr>\n",
       "      <td>0</td>\n",
       "      <td>889</td>\n",
       "    </tr>\n",
       "    <tr>\n",
       "      <td>1</td>\n",
       "      <td>557</td>\n",
       "    </tr>\n",
       "    <tr>\n",
       "      <td>2</td>\n",
       "      <td>545</td>\n",
       "    </tr>\n",
       "  </tbody>\n",
       "</table>\n",
       "</div>"
      ],
      "text/plain": [
       "   Cluster Count\n",
       "0            889\n",
       "1            557\n",
       "2            545"
      ]
     },
     "execution_count": 31,
     "metadata": {},
     "output_type": "execute_result"
    }
   ],
   "source": [
    "# Printing Cluster Count\n",
    "emp_left_scaled_df.groupby(kmeans.labels_).count().iloc[:,:1].rename(columns = {'satisfaction_level':'Cluster Count'})"
   ]
  },
  {
   "cell_type": "markdown",
   "metadata": {},
   "source": [
    "**3 distinct among employees who leave**\n",
    "\n",
    "- **The Dissatisfied Star** - Dedicated employee with highest work output in terms quantity, good work quality, but satisfaction level is low\n",
    "\n",
    "- **The Satisfied Performer** - Dedicated employee with decent work output in terms quantity, good work quality, but satisfaction level is high\n",
    "\n",
    "- **The Bored** - Lack of effort with poor work output in terms of both quality and quantity, coupled with low to moderate satisfaction levels."
   ]
  },
  {
   "cell_type": "markdown",
   "metadata": {},
   "source": [
    "# H. Preparing Data for Model Application"
   ]
  },
  {
   "cell_type": "markdown",
   "metadata": {},
   "source": [
    "### H1. Removing the un-necessary columns found using VIF analysis and Chi-Square Test"
   ]
  },
  {
   "cell_type": "code",
   "execution_count": 32,
   "metadata": {},
   "outputs": [
    {
     "data": {
      "text/html": [
       "<div>\n",
       "<style scoped>\n",
       "    .dataframe tbody tr th:only-of-type {\n",
       "        vertical-align: middle;\n",
       "    }\n",
       "\n",
       "    .dataframe tbody tr th {\n",
       "        vertical-align: top;\n",
       "    }\n",
       "\n",
       "    .dataframe thead th {\n",
       "        text-align: right;\n",
       "    }\n",
       "</style>\n",
       "<table border=\"1\" class=\"dataframe\">\n",
       "  <thead>\n",
       "    <tr style=\"text-align: right;\">\n",
       "      <th></th>\n",
       "      <th>satisfaction_level</th>\n",
       "      <th>number_project</th>\n",
       "      <th>time_spend_company</th>\n",
       "      <th>work_accident</th>\n",
       "      <th>promotion_last_5years</th>\n",
       "      <th>salary</th>\n",
       "      <th>left</th>\n",
       "    </tr>\n",
       "  </thead>\n",
       "  <tbody>\n",
       "    <tr>\n",
       "      <td>0</td>\n",
       "      <td>0.41</td>\n",
       "      <td>2</td>\n",
       "      <td>3</td>\n",
       "      <td>0</td>\n",
       "      <td>0</td>\n",
       "      <td>low</td>\n",
       "      <td>1</td>\n",
       "    </tr>\n",
       "    <tr>\n",
       "      <td>1</td>\n",
       "      <td>0.65</td>\n",
       "      <td>4</td>\n",
       "      <td>4</td>\n",
       "      <td>0</td>\n",
       "      <td>0</td>\n",
       "      <td>low</td>\n",
       "      <td>0</td>\n",
       "    </tr>\n",
       "  </tbody>\n",
       "</table>\n",
       "</div>"
      ],
      "text/plain": [
       "   satisfaction_level  number_project  time_spend_company work_accident  \\\n",
       "0                0.41               2                   3             0   \n",
       "1                0.65               4                   4             0   \n",
       "\n",
       "  promotion_last_5years salary  left  \n",
       "0                     0    low     1  \n",
       "1                     0    low     0  "
      ]
     },
     "execution_count": 32,
     "metadata": {},
     "output_type": "execute_result"
    }
   ],
   "source": [
    "emp_2=emp.drop(['department', 'last_evaluation', 'average_monthly_hours'], axis=1)\n",
    "emp_2.head(2)"
   ]
  },
  {
   "cell_type": "markdown",
   "metadata": {},
   "source": [
    "### H2. Normalising the data"
   ]
  },
  {
   "cell_type": "code",
   "execution_count": 33,
   "metadata": {},
   "outputs": [
    {
     "data": {
      "text/html": [
       "<div>\n",
       "<style scoped>\n",
       "    .dataframe tbody tr th:only-of-type {\n",
       "        vertical-align: middle;\n",
       "    }\n",
       "\n",
       "    .dataframe tbody tr th {\n",
       "        vertical-align: top;\n",
       "    }\n",
       "\n",
       "    .dataframe thead th {\n",
       "        text-align: right;\n",
       "    }\n",
       "</style>\n",
       "<table border=\"1\" class=\"dataframe\">\n",
       "  <thead>\n",
       "    <tr style=\"text-align: right;\">\n",
       "      <th></th>\n",
       "      <th>satisfaction_level</th>\n",
       "      <th>number_project</th>\n",
       "      <th>time_spend_company</th>\n",
       "      <th>work_accident</th>\n",
       "      <th>promotion_last_5years</th>\n",
       "      <th>salary</th>\n",
       "      <th>left</th>\n",
       "    </tr>\n",
       "  </thead>\n",
       "  <tbody>\n",
       "    <tr>\n",
       "      <td>0</td>\n",
       "      <td>0.351648</td>\n",
       "      <td>0.0</td>\n",
       "      <td>0.125</td>\n",
       "      <td>0.0</td>\n",
       "      <td>0.0</td>\n",
       "      <td>0.0</td>\n",
       "      <td>1.0</td>\n",
       "    </tr>\n",
       "    <tr>\n",
       "      <td>1</td>\n",
       "      <td>0.615385</td>\n",
       "      <td>0.4</td>\n",
       "      <td>0.250</td>\n",
       "      <td>0.0</td>\n",
       "      <td>0.0</td>\n",
       "      <td>0.0</td>\n",
       "      <td>0.0</td>\n",
       "    </tr>\n",
       "    <tr>\n",
       "      <td>2</td>\n",
       "      <td>0.934066</td>\n",
       "      <td>0.2</td>\n",
       "      <td>0.125</td>\n",
       "      <td>0.0</td>\n",
       "      <td>0.0</td>\n",
       "      <td>1.0</td>\n",
       "      <td>0.0</td>\n",
       "    </tr>\n",
       "    <tr>\n",
       "      <td>3</td>\n",
       "      <td>0.912088</td>\n",
       "      <td>0.4</td>\n",
       "      <td>0.250</td>\n",
       "      <td>0.0</td>\n",
       "      <td>0.0</td>\n",
       "      <td>0.5</td>\n",
       "      <td>0.0</td>\n",
       "    </tr>\n",
       "    <tr>\n",
       "      <td>4</td>\n",
       "      <td>0.373626</td>\n",
       "      <td>0.0</td>\n",
       "      <td>0.125</td>\n",
       "      <td>0.0</td>\n",
       "      <td>0.0</td>\n",
       "      <td>0.5</td>\n",
       "      <td>1.0</td>\n",
       "    </tr>\n",
       "  </tbody>\n",
       "</table>\n",
       "</div>"
      ],
      "text/plain": [
       "   satisfaction_level  number_project  time_spend_company  work_accident  \\\n",
       "0            0.351648             0.0               0.125            0.0   \n",
       "1            0.615385             0.4               0.250            0.0   \n",
       "2            0.934066             0.2               0.125            0.0   \n",
       "3            0.912088             0.4               0.250            0.0   \n",
       "4            0.373626             0.0               0.125            0.0   \n",
       "\n",
       "   promotion_last_5years  salary  left  \n",
       "0                    0.0     0.0   1.0  \n",
       "1                    0.0     0.0   0.0  \n",
       "2                    0.0     1.0   0.0  \n",
       "3                    0.0     0.5   0.0  \n",
       "4                    0.0     0.5   1.0  "
      ]
     },
     "execution_count": 33,
     "metadata": {},
     "output_type": "execute_result"
    }
   ],
   "source": [
    "# Label encoding the 'salary' column \n",
    "emp_2['salary'].replace({'low':1, 'medium':2, 'high':3}, inplace=True)\n",
    "\n",
    "# Normalising using Min-Max scaler (outcome feature has binary values 0, 1 so they will remain same, hence no need to separate it )\n",
    "from sklearn.preprocessing import MinMaxScaler\n",
    "\n",
    "scaler = MinMaxScaler(feature_range=(0, 1))\n",
    "\n",
    "emp_scaled = scaler.fit_transform(emp_2)\n",
    "emp_scaled_df = pd.DataFrame(emp_scaled,columns=emp_2.columns)\n",
    "emp_scaled_df.head()"
   ]
  },
  {
   "cell_type": "markdown",
   "metadata": {},
   "source": [
    "### H3. Splitting data in train & test sets"
   ]
  },
  {
   "cell_type": "code",
   "execution_count": 34,
   "metadata": {},
   "outputs": [],
   "source": [
    "# splitting data into test and train set\n",
    "\n",
    "X = emp_scaled_df.drop('left',axis=1)\n",
    "y = emp_scaled_df['left']\n",
    "\n",
    "from sklearn.model_selection import train_test_split\n",
    "\n",
    "X_train, X_test, y_train, y_test = train_test_split(X, y, test_size = 0.25, random_state=42)"
   ]
  },
  {
   "cell_type": "markdown",
   "metadata": {},
   "source": [
    "### H4. Dealing with imbalance in the outcome class:"
   ]
  },
  {
   "cell_type": "markdown",
   "metadata": {},
   "source": [
    "**Actions to take when dealing with dataset with imbalanced classes:**\n",
    "\n",
    "1. Select performance metrics, such as those that focus on the minority class (Recall)\n",
    "    \n",
    "    \n",
    "2. Select data preparation methods, such as those that attempt to re-balance the classes\n",
    "    * Undersample Majority Class : Creates information loss, do only if data set is very huge\n",
    "    * Random Oversampling Minority Class : Duplicates minority class data, hence can create overfitting\n",
    "    * SMOTE-Synthetic minority oversampling technique : Using nearest neighbors, creates synthesized minority data points"
   ]
  },
  {
   "cell_type": "markdown",
   "metadata": {},
   "source": [
    "**SMOTE method:**"
   ]
  },
  {
   "cell_type": "code",
   "execution_count": 35,
   "metadata": {},
   "outputs": [
    {
     "name": "stdout",
     "output_type": "stream",
     "text": [
      "Original dataset shape Counter({0.0: 7521, 1.0: 1472})\n",
      "Resampled dataset shape Counter({0.0: 7521, 1.0: 5640})\n"
     ]
    }
   ],
   "source": [
    "from collections import Counter\n",
    "from imblearn.over_sampling import SMOTE\n",
    "\n",
    "print('Original dataset shape %s' % Counter(y_train))\n",
    "sm = SMOTE(sampling_strategy=0.75, random_state=42)\n",
    "X_train_smote, y_train_smote = sm.fit_resample(X_train, y_train)\n",
    "print('Resampled dataset shape %s' % Counter(y_train_smote))"
   ]
  },
  {
   "cell_type": "markdown",
   "metadata": {},
   "source": [
    "**Random Oversampling of Minority Class:**"
   ]
  },
  {
   "cell_type": "code",
   "execution_count": 36,
   "metadata": {},
   "outputs": [
    {
     "name": "stdout",
     "output_type": "stream",
     "text": [
      "Original dataset shape Counter({0.0: 7521, 1.0: 1472})\n",
      "Resampled dataset shape Counter({0.0: 7521, 1.0: 5640})\n"
     ]
    }
   ],
   "source": [
    "from imblearn.over_sampling import RandomOverSampler\n",
    "\n",
    "print('Original dataset shape %s' % Counter(y_train))\n",
    "os=RandomOverSampler(sampling_strategy=0.75, random_state=42)\n",
    "X_train_os,y_train_os = os.fit_sample(X_train,y_train)\n",
    "print('Resampled dataset shape %s' % Counter(y_train_smote))"
   ]
  },
  {
   "cell_type": "markdown",
   "metadata": {},
   "source": [
    "# I. KNN Model"
   ]
  },
  {
   "cell_type": "markdown",
   "metadata": {},
   "source": [
    "## I1. KNN with original imbalanced data"
   ]
  },
  {
   "cell_type": "code",
   "execution_count": 37,
   "metadata": {},
   "outputs": [],
   "source": [
    "from sklearn.neighbors import KNeighborsClassifier\n",
    "from sklearn.model_selection import GridSearchCV"
   ]
  },
  {
   "cell_type": "code",
   "execution_count": 38,
   "metadata": {
    "scrolled": true
   },
   "outputs": [
    {
     "data": {
      "image/png": "[encoded data removed]",
      "text/plain": [
       "<Figure size 432x288 with 1 Axes>"
      ]
     },
     "metadata": {
      "needs_background": "light"
     },
     "output_type": "display_data"
    }
   ],
   "source": [
    "# visualising recalls for different n_neighbors on training set\n",
    "\n",
    "recall_list = [] #to store \"recall\" values for different k\n",
    "for K in range(1,20):\n",
    "    \n",
    "    model = KNeighborsClassifier(n_neighbors = K)\n",
    "\n",
    "    model.fit(X_train, y_train)  #fit the model\n",
    "    pred = model.predict(X_train) #make prediction on test set\n",
    "    cm = confusion_matrix(y_train,pred)\n",
    "    recall = (cm[1,1]/(cm[1,0]+cm[1,1]))\n",
    "    recall_list.append(recall) #store recall values\n",
    "    \n",
    "curve = pd.DataFrame(recall_list) \n",
    "sns.lineplot(x=range(1,20),y = curve.iloc[:,0],label='Recall')\n",
    "plt.xticks(range(1,20))\n",
    "plt.title('Recall vs Number of Neighbors on train dataset:')\n",
    "plt.xlabel('Number of Neighbors (k)')\n",
    "plt.ylabel(\"Recall of 'left' employee class\")\n",
    "plt.legend()\n",
    "plt.show()"
   ]
  },
  {
   "cell_type": "markdown",
   "metadata": {},
   "source": [
    "**Observation:**\n",
    "- At k = 1, recall for 'left' employees is the highest, but k=1 can be prone to noise and outliers, hence the next best k, which is 3 should be selected for final model building"
   ]
  },
  {
   "cell_type": "code",
   "execution_count": 39,
   "metadata": {},
   "outputs": [
    {
     "name": "stdout",
     "output_type": "stream",
     "text": [
      "KNN hyper-parameter using Grid Search: KNeighborsClassifier(n_neighbors=3)\n"
     ]
    }
   ],
   "source": [
    "params = {'n_neighbors': range(2,21)}\n",
    "\n",
    "#using Grid Search to find n-neighbors\n",
    "grid_search_cv = GridSearchCV(KNeighborsClassifier(), param_grid = params, scoring = 'recall', cv=5)\n",
    "grid_search_cv.fit(X_train, y_train)\n",
    "\n",
    "best_knn = grid_search_cv.best_estimator_\n",
    "print('KNN hyper-parameter using Grid Search:',best_knn)"
   ]
  },
  {
   "cell_type": "markdown",
   "metadata": {},
   "source": [
    "**Observation:**\n",
    "- Grid Search confirms that k value should be 3"
   ]
  },
  {
   "cell_type": "code",
   "execution_count": 40,
   "metadata": {},
   "outputs": [
    {
     "name": "stdout",
     "output_type": "stream",
     "text": [
      "[[2432   47]\n",
      " [  55  464]]\n",
      "\n",
      "\n",
      "              precision    recall  f1-score   support\n",
      "\n",
      "         0.0       0.98      0.98      0.98      2479\n",
      "         1.0       0.91      0.89      0.90       519\n",
      "\n",
      "    accuracy                           0.97      2998\n",
      "   macro avg       0.94      0.94      0.94      2998\n",
      "weighted avg       0.97      0.97      0.97      2998\n",
      "\n"
     ]
    }
   ],
   "source": [
    "# building KNN model with k=3\n",
    "\n",
    "knn = KNeighborsClassifier(n_neighbors = 3)\n",
    "\n",
    "knn.fit(X_train, y_train)  #fit the model\n",
    "knn_pred = knn.predict(X_test) #make prediction on test set\n",
    "knn_cm = confusion_matrix(y_test,knn_pred)\n",
    "print(knn_cm)\n",
    "print('\\n')\n",
    "print(classification_report(y_test,knn_pred))"
   ]
  },
  {
   "cell_type": "markdown",
   "metadata": {},
   "source": [
    "## I2. KNN with SMOTE data"
   ]
  },
  {
   "cell_type": "code",
   "execution_count": 41,
   "metadata": {},
   "outputs": [
    {
     "name": "stdout",
     "output_type": "stream",
     "text": [
      "KNN hyper-parameter using Grid Search: KNeighborsClassifier(n_neighbors=3)\n"
     ]
    }
   ],
   "source": [
    "params = {'n_neighbors': range(2,21)}\n",
    "\n",
    "#using Grid Search to find n-neighbors\n",
    "grid_search_cv = GridSearchCV(KNeighborsClassifier(), param_grid = params, scoring = 'recall', cv=5)\n",
    "grid_search_cv.fit(X_train_smote, y_train_smote)\n",
    "\n",
    "best_knn = grid_search_cv.best_estimator_\n",
    "print('KNN hyper-parameter using Grid Search:',best_knn)"
   ]
  },
  {
   "cell_type": "code",
   "execution_count": 42,
   "metadata": {},
   "outputs": [
    {
     "name": "stdout",
     "output_type": "stream",
     "text": [
      "[[2390   89]\n",
      " [  52  467]]\n",
      "\n",
      "\n",
      "              precision    recall  f1-score   support\n",
      "\n",
      "         0.0       0.98      0.96      0.97      2479\n",
      "         1.0       0.84      0.90      0.87       519\n",
      "\n",
      "    accuracy                           0.95      2998\n",
      "   macro avg       0.91      0.93      0.92      2998\n",
      "weighted avg       0.95      0.95      0.95      2998\n",
      "\n"
     ]
    }
   ],
   "source": [
    "knn_sm = KNeighborsClassifier(n_neighbors = 3)\n",
    "\n",
    "knn_sm.fit(X_train_smote, y_train_smote)  #fit the model\n",
    "knn_pred_sm = knn_sm.predict(X_test) #make prediction on test set\n",
    "knn_cm_sm = confusion_matrix(y_test,knn_pred_sm)\n",
    "print(knn_cm_sm)\n",
    "print('\\n')\n",
    "print(classification_report(y_test,knn_pred_sm))"
   ]
  },
  {
   "cell_type": "markdown",
   "metadata": {},
   "source": [
    "## I3. KNN with Random Oversampled data:"
   ]
  },
  {
   "cell_type": "code",
   "execution_count": 43,
   "metadata": {},
   "outputs": [
    {
     "name": "stdout",
     "output_type": "stream",
     "text": [
      "KNN hyper-parameter using Grid Search: KNeighborsClassifier(n_neighbors=3)\n"
     ]
    }
   ],
   "source": [
    "params = {'n_neighbors': range(2,21)}\n",
    "\n",
    "#using Grid Search to find n-neighbors\n",
    "grid_search_cv = GridSearchCV(KNeighborsClassifier(), param_grid = params, scoring = 'recall', cv=5)\n",
    "grid_search_cv.fit(X_train_os, y_train_os)\n",
    "\n",
    "best_knn = grid_search_cv.best_estimator_\n",
    "print('KNN hyper-parameter using Grid Search:',best_knn)"
   ]
  },
  {
   "cell_type": "code",
   "execution_count": 44,
   "metadata": {},
   "outputs": [
    {
     "name": "stdout",
     "output_type": "stream",
     "text": [
      "[[2390   89]\n",
      " [  52  467]]\n",
      "\n",
      "\n",
      "              precision    recall  f1-score   support\n",
      "\n",
      "         0.0       0.98      0.96      0.97      2479\n",
      "         1.0       0.84      0.90      0.87       519\n",
      "\n",
      "    accuracy                           0.95      2998\n",
      "   macro avg       0.91      0.93      0.92      2998\n",
      "weighted avg       0.95      0.95      0.95      2998\n",
      "\n"
     ]
    }
   ],
   "source": [
    "knn_os = KNeighborsClassifier(n_neighbors = 3)\n",
    "\n",
    "knn_os.fit(X_train_os, y_train_os)  #fit the model\n",
    "knn_pred_os = knn_sm.predict(X_test) #make prediction on test set\n",
    "knn_cm_os = confusion_matrix(y_test,knn_pred_os)\n",
    "print(knn_cm_os)\n",
    "print('\\n')\n",
    "print(classification_report(y_test,knn_pred_os))"
   ]
  },
  {
   "cell_type": "markdown",
   "metadata": {},
   "source": [
    "# J. Decision Model"
   ]
  },
  {
   "cell_type": "markdown",
   "metadata": {},
   "source": [
    "## J1. DT with original data"
   ]
  },
  {
   "cell_type": "code",
   "execution_count": 45,
   "metadata": {},
   "outputs": [],
   "source": [
    "from sklearn.tree import DecisionTreeClassifier as DTC"
   ]
  },
  {
   "cell_type": "code",
   "execution_count": 46,
   "metadata": {},
   "outputs": [
    {
     "name": "stdout",
     "output_type": "stream",
     "text": [
      "[[2332  147]\n",
      " [  48  471]]\n",
      "\n",
      "\n",
      "              precision    recall  f1-score   support\n",
      "\n",
      "         0.0       0.98      0.94      0.96      2479\n",
      "         1.0       0.76      0.91      0.83       519\n",
      "\n",
      "    accuracy                           0.93      2998\n",
      "   macro avg       0.87      0.92      0.89      2998\n",
      "weighted avg       0.94      0.93      0.94      2998\n",
      "\n"
     ]
    }
   ],
   "source": [
    "params = {'max_depth': [1,2,3,4,5,6],'criterion' : [\"gini\", \"entropy\"]}\n",
    "\n",
    "grid_search_cv = GridSearchCV(DTC(random_state=42), param_grid = params, scoring = 'recall', cv=5)\n",
    "grid_search_cv.fit(X_train, y_train)\n",
    "\n",
    "DT = grid_search_cv.best_estimator_\n",
    "DT_pred = DT.predict(X_test) #make prediction on test set\n",
    "DT_cm = confusion_matrix(y_test,DT_pred)\n",
    "print(DT_cm)\n",
    "print('\\n')\n",
    "print(classification_report(y_test,DT_pred))"
   ]
  },
  {
   "cell_type": "code",
   "execution_count": 47,
   "metadata": {},
   "outputs": [
    {
     "data": {
      "text/plain": [
       "DecisionTreeClassifier(criterion='entropy', max_depth=3, random_state=42)"
      ]
     },
     "execution_count": 47,
     "metadata": {},
     "output_type": "execute_result"
    }
   ],
   "source": [
    "DT"
   ]
  },
  {
   "cell_type": "markdown",
   "metadata": {},
   "source": [
    "## J2. DT with SMOTE data"
   ]
  },
  {
   "cell_type": "code",
   "execution_count": 48,
   "metadata": {},
   "outputs": [
    {
     "name": "stdout",
     "output_type": "stream",
     "text": [
      "[[1923  556]\n",
      " [  23  496]]\n",
      "\n",
      "\n",
      "              precision    recall  f1-score   support\n",
      "\n",
      "         0.0       0.99      0.78      0.87      2479\n",
      "         1.0       0.47      0.96      0.63       519\n",
      "\n",
      "    accuracy                           0.81      2998\n",
      "   macro avg       0.73      0.87      0.75      2998\n",
      "weighted avg       0.90      0.81      0.83      2998\n",
      "\n"
     ]
    }
   ],
   "source": [
    "params = {'max_depth': [1,2,3,4,5,6],'criterion' : [\"gini\", \"entropy\"]}\n",
    "\n",
    "grid_search_cv_sm = GridSearchCV(DTC(random_state=42), param_grid = params, scoring = 'recall', cv=5)\n",
    "grid_search_cv_sm.fit(X_train_smote, y_train_smote)\n",
    "\n",
    "DT_sm = grid_search_cv_sm.best_estimator_\n",
    "DT_pred_sm = DT_sm.predict(X_test) #make prediction on test set\n",
    "DT_cm_sm = confusion_matrix(y_test,DT_pred_sm)\n",
    "print(DT_cm_sm)\n",
    "print('\\n')\n",
    "print(classification_report(y_test,DT_pred_sm))"
   ]
  },
  {
   "cell_type": "code",
   "execution_count": 49,
   "metadata": {},
   "outputs": [
    {
     "data": {
      "text/plain": [
       "DecisionTreeClassifier(criterion='entropy', max_depth=2, random_state=42)"
      ]
     },
     "execution_count": 49,
     "metadata": {},
     "output_type": "execute_result"
    }
   ],
   "source": [
    "DT_sm"
   ]
  },
  {
   "cell_type": "markdown",
   "metadata": {},
   "source": [
    "## J3. DT with Random oversampling data"
   ]
  },
  {
   "cell_type": "code",
   "execution_count": 50,
   "metadata": {},
   "outputs": [
    {
     "name": "stdout",
     "output_type": "stream",
     "text": [
      "[[1923  556]\n",
      " [  23  496]]\n",
      "\n",
      "\n",
      "              precision    recall  f1-score   support\n",
      "\n",
      "         0.0       0.99      0.78      0.87      2479\n",
      "         1.0       0.47      0.96      0.63       519\n",
      "\n",
      "    accuracy                           0.81      2998\n",
      "   macro avg       0.73      0.87      0.75      2998\n",
      "weighted avg       0.90      0.81      0.83      2998\n",
      "\n"
     ]
    }
   ],
   "source": [
    "params = {'max_depth': [1,2,3,4,5,6],'criterion' : [\"gini\", \"entropy\"]}\n",
    "\n",
    "grid_search_cv_os = GridSearchCV(DTC(random_state=42), param_grid = params, scoring = 'recall', cv=5)\n",
    "grid_search_cv_os.fit(X_train_os, y_train_os)\n",
    "\n",
    "DT_os = grid_search_cv_os.best_estimator_\n",
    "DT_pred_os = DT_os.predict(X_test) #make prediction on test set\n",
    "DT_cm_os = confusion_matrix(y_test,DT_pred_os)\n",
    "print(DT_cm_os)\n",
    "print('\\n')\n",
    "print(classification_report(y_test,DT_pred_os))"
   ]
  },
  {
   "cell_type": "code",
   "execution_count": 51,
   "metadata": {},
   "outputs": [
    {
     "data": {
      "text/plain": [
       "DecisionTreeClassifier(criterion='entropy', max_depth=2, random_state=42)"
      ]
     },
     "execution_count": 51,
     "metadata": {},
     "output_type": "execute_result"
    }
   ],
   "source": [
    "DT_os"
   ]
  },
  {
   "cell_type": "markdown",
   "metadata": {},
   "source": [
    "# K. Random Forest Model"
   ]
  },
  {
   "cell_type": "markdown",
   "metadata": {},
   "source": [
    "## K1. Random Forest with original data"
   ]
  },
  {
   "cell_type": "code",
   "execution_count": 52,
   "metadata": {},
   "outputs": [
    {
     "name": "stdout",
     "output_type": "stream",
     "text": [
      "[[2441   38]\n",
      " [  46  473]]\n",
      "\n",
      "\n",
      "              precision    recall  f1-score   support\n",
      "\n",
      "         0.0       0.98      0.98      0.98      2479\n",
      "         1.0       0.93      0.91      0.92       519\n",
      "\n",
      "    accuracy                           0.97      2998\n",
      "   macro avg       0.95      0.95      0.95      2998\n",
      "weighted avg       0.97      0.97      0.97      2998\n",
      "\n"
     ]
    }
   ],
   "source": [
    "from sklearn.ensemble import RandomForestClassifier as RFC\n",
    "\n",
    "# Default n_estimators =100 which we are using here\n",
    "params = {'max_depth': [1,3,5,6], 'max_features': [2,3,4,5,6]}\n",
    "\n",
    "grid_search_cv = GridSearchCV(RFC(random_state=42), param_grid = params, scoring = 'recall', cv=5)\n",
    "grid_search_cv.fit(X_train, y_train)\n",
    "\n",
    "RF = grid_search_cv.best_estimator_\n",
    "RF_pred = RF.predict(X_test) #make prediction on test set\n",
    "RF_cm = confusion_matrix(y_test,RF_pred)\n",
    "print(RF_cm)\n",
    "print('\\n')\n",
    "print(classification_report(y_test,RF_pred))"
   ]
  },
  {
   "cell_type": "code",
   "execution_count": 53,
   "metadata": {},
   "outputs": [
    {
     "data": {
      "text/plain": [
       "RandomForestClassifier(max_depth=5, max_features=6, random_state=42)"
      ]
     },
     "execution_count": 53,
     "metadata": {},
     "output_type": "execute_result"
    }
   ],
   "source": [
    "grid_search_cv.best_estimator_"
   ]
  },
  {
   "cell_type": "markdown",
   "metadata": {},
   "source": [
    "## K2. Random Forest using SMOTE dataset"
   ]
  },
  {
   "cell_type": "code",
   "execution_count": 54,
   "metadata": {},
   "outputs": [
    {
     "name": "stdout",
     "output_type": "stream",
     "text": [
      "[[2229  250]\n",
      " [  37  482]]\n",
      "\n",
      "\n",
      "              precision    recall  f1-score   support\n",
      "\n",
      "         0.0       0.98      0.90      0.94      2479\n",
      "         1.0       0.66      0.93      0.77       519\n",
      "\n",
      "    accuracy                           0.90      2998\n",
      "   macro avg       0.82      0.91      0.86      2998\n",
      "weighted avg       0.93      0.90      0.91      2998\n",
      "\n"
     ]
    }
   ],
   "source": [
    "params = {'max_depth': [1,3,5,6],'max_features' : [2,3,4,5,6]}\n",
    "\n",
    "grid_search_cv = GridSearchCV(RFC(random_state=42), param_grid = params, scoring = 'recall', cv=5)\n",
    "grid_search_cv.fit(X_train_smote, y_train_smote)\n",
    "\n",
    "RF_sm = grid_search_cv.best_estimator_\n",
    "RF_pred_sm = RF_sm.predict(X_test) #make prediction on test set\n",
    "RF_cm_sm = confusion_matrix(y_test,RF_pred_sm)\n",
    "print(RF_cm_sm)\n",
    "print('\\n')\n",
    "print(classification_report(y_test,RF_pred_sm))"
   ]
  },
  {
   "cell_type": "code",
   "execution_count": 55,
   "metadata": {},
   "outputs": [
    {
     "data": {
      "text/plain": [
       "RandomForestClassifier(max_depth=3, max_features=6, random_state=42)"
      ]
     },
     "execution_count": 55,
     "metadata": {},
     "output_type": "execute_result"
    }
   ],
   "source": [
    "RF_sm"
   ]
  },
  {
   "cell_type": "markdown",
   "metadata": {},
   "source": [
    "## K3. Random Forest using random oversampled dataset"
   ]
  },
  {
   "cell_type": "code",
   "execution_count": 56,
   "metadata": {},
   "outputs": [
    {
     "name": "stdout",
     "output_type": "stream",
     "text": [
      "[[2263  216]\n",
      " [  41  478]]\n",
      "\n",
      "\n",
      "              precision    recall  f1-score   support\n",
      "\n",
      "         0.0       0.98      0.91      0.95      2479\n",
      "         1.0       0.69      0.92      0.79       519\n",
      "\n",
      "    accuracy                           0.91      2998\n",
      "   macro avg       0.84      0.92      0.87      2998\n",
      "weighted avg       0.93      0.91      0.92      2998\n",
      "\n"
     ]
    }
   ],
   "source": [
    "params = {'max_depth': [1,3,5,6],'max_features' : [2,3,4,5,6]}\n",
    "\n",
    "grid_search_cv = GridSearchCV(RFC(random_state=42), param_grid = params, scoring = 'recall', cv=5)\n",
    "grid_search_cv.fit(X_train_os, y_train_os)\n",
    "\n",
    "RF_os = grid_search_cv.best_estimator_\n",
    "RF_pred_os = RF_os.predict(X_test) #make prediction on test set\n",
    "RF_cm_os = confusion_matrix(y_test,RF_pred_os)\n",
    "print(RF_cm_os)\n",
    "print('\\n')\n",
    "print(classification_report(y_test,RF_pred_os))"
   ]
  },
  {
   "cell_type": "code",
   "execution_count": 57,
   "metadata": {},
   "outputs": [
    {
     "data": {
      "text/plain": [
       "RandomForestClassifier(max_depth=3, max_features=5, random_state=42)"
      ]
     },
     "execution_count": 57,
     "metadata": {},
     "output_type": "execute_result"
    }
   ],
   "source": [
    "RF_os"
   ]
  },
  {
   "cell_type": "markdown",
   "metadata": {},
   "source": [
    "## K4. Minimal Random Forest"
   ]
  },
  {
   "cell_type": "code",
   "execution_count": 58,
   "metadata": {},
   "outputs": [
    {
     "data": {
      "image/png": "[encoded data removed]",
      "text/plain": [
       "<Figure size 432x288 with 1 Axes>"
      ]
     },
     "metadata": {
      "needs_background": "light"
     },
     "output_type": "display_data"
    }
   ],
   "source": [
    "# checking feature importance score in random forest model with original imbalance classes data\n",
    "\n",
    "feature_imp = pd.Series(RF.feature_importances_,index=X_train.columns).sort_values(ascending=False)\n",
    "sns.barplot(x=feature_imp, y=feature_imp.index)\n",
    "plt.xlabel('Feature Importance Score')\n",
    "plt.ylabel('Features')\n",
    "plt.title(\"Visualizing Important Features\")\n",
    "\n",
    "plt.show()"
   ]
  },
  {
   "cell_type": "code",
   "execution_count": 59,
   "metadata": {},
   "outputs": [
    {
     "name": "stdout",
     "output_type": "stream",
     "text": [
      "[[2438   41]\n",
      " [  53  466]]\n",
      "\n",
      "\n",
      "              precision    recall  f1-score   support\n",
      "\n",
      "         0.0       0.98      0.98      0.98      2479\n",
      "         1.0       0.92      0.90      0.91       519\n",
      "\n",
      "    accuracy                           0.97      2998\n",
      "   macro avg       0.95      0.94      0.94      2998\n",
      "weighted avg       0.97      0.97      0.97      2998\n",
      "\n"
     ]
    }
   ],
   "source": [
    "X_train_new = X_train[['satisfaction_level', 'number_project','time_spend_company']]  # taking only important features\n",
    "X_test_new = X_test[['satisfaction_level', 'number_project','time_spend_company']]\n",
    "\n",
    "rf_new = RFC(n_estimators = 100, random_state = 42)\n",
    "rf_new.fit(X_train_new, y_train)\n",
    "\n",
    "rf_pred_new = rf_new.predict(X_test_new) #make prediction on test set\n",
    "rf_cm_new = confusion_matrix(y_test,rf_pred_new)\n",
    "print(rf_cm_new)\n",
    "print('\\n')\n",
    "print(classification_report(y_test,rf_pred_new))"
   ]
  },
  {
   "cell_type": "markdown",
   "metadata": {},
   "source": [
    "# L. Model Selection :"
   ]
  },
  {
   "cell_type": "code",
   "execution_count": 60,
   "metadata": {},
   "outputs": [
    {
     "data": {
      "text/html": [
       "<div>\n",
       "<style scoped>\n",
       "    .dataframe tbody tr th:only-of-type {\n",
       "        vertical-align: middle;\n",
       "    }\n",
       "\n",
       "    .dataframe tbody tr th {\n",
       "        vertical-align: top;\n",
       "    }\n",
       "\n",
       "    .dataframe thead th {\n",
       "        text-align: right;\n",
       "    }\n",
       "</style>\n",
       "<table border=\"1\" class=\"dataframe\">\n",
       "  <thead>\n",
       "    <tr style=\"text-align: right;\">\n",
       "      <th></th>\n",
       "      <th>model</th>\n",
       "      <th>recall_left</th>\n",
       "      <th>recall_working</th>\n",
       "    </tr>\n",
       "  </thead>\n",
       "  <tbody>\n",
       "    <tr>\n",
       "      <td>0</td>\n",
       "      <td>knn</td>\n",
       "      <td>0.89</td>\n",
       "      <td>0.98</td>\n",
       "    </tr>\n",
       "    <tr>\n",
       "      <td>1</td>\n",
       "      <td>knn_sm</td>\n",
       "      <td>0.90</td>\n",
       "      <td>0.96</td>\n",
       "    </tr>\n",
       "    <tr>\n",
       "      <td>2</td>\n",
       "      <td>knn_os</td>\n",
       "      <td>0.90</td>\n",
       "      <td>0.96</td>\n",
       "    </tr>\n",
       "    <tr>\n",
       "      <td>3</td>\n",
       "      <td>DT</td>\n",
       "      <td>0.91</td>\n",
       "      <td>0.94</td>\n",
       "    </tr>\n",
       "    <tr>\n",
       "      <td>4</td>\n",
       "      <td>DT_sm</td>\n",
       "      <td>0.96</td>\n",
       "      <td>0.78</td>\n",
       "    </tr>\n",
       "    <tr>\n",
       "      <td>5</td>\n",
       "      <td>DT_os</td>\n",
       "      <td>0.96</td>\n",
       "      <td>0.78</td>\n",
       "    </tr>\n",
       "    <tr>\n",
       "      <td>6</td>\n",
       "      <td>RF</td>\n",
       "      <td>0.91</td>\n",
       "      <td>0.98</td>\n",
       "    </tr>\n",
       "    <tr>\n",
       "      <td>7</td>\n",
       "      <td>RF_sm</td>\n",
       "      <td>0.93</td>\n",
       "      <td>0.90</td>\n",
       "    </tr>\n",
       "    <tr>\n",
       "      <td>8</td>\n",
       "      <td>RF_os</td>\n",
       "      <td>0.92</td>\n",
       "      <td>0.91</td>\n",
       "    </tr>\n",
       "    <tr>\n",
       "      <td>9</td>\n",
       "      <td>RF_minimal</td>\n",
       "      <td>0.90</td>\n",
       "      <td>0.98</td>\n",
       "    </tr>\n",
       "  </tbody>\n",
       "</table>\n",
       "</div>"
      ],
      "text/plain": [
       "        model  recall_left  recall_working\n",
       "0         knn         0.89            0.98\n",
       "1      knn_sm         0.90            0.96\n",
       "2      knn_os         0.90            0.96\n",
       "3          DT         0.91            0.94\n",
       "4       DT_sm         0.96            0.78\n",
       "5       DT_os         0.96            0.78\n",
       "6          RF         0.91            0.98\n",
       "7       RF_sm         0.93            0.90\n",
       "8       RF_os         0.92            0.91\n",
       "9  RF_minimal         0.90            0.98"
      ]
     },
     "execution_count": 60,
     "metadata": {},
     "output_type": "execute_result"
    }
   ],
   "source": [
    "model = ['knn', 'knn_sm', 'knn_os', 'DT', 'DT_sm', 'DT_os', 'RF', 'RF_sm', 'RF_os','RF_minimal']\n",
    "recall_left = [0.89, 0.90, 0.90, 0.91, 0.96, 0.96,0.91, 0.93,0.92, 0.90]\n",
    "recall_working = [0.98, 0.96, 0.96, 0.94, 0.78, 0.78, 0.98, 0.90, 0.91, 0.98]\n",
    "model_outcome = pd.DataFrame({'model':model, 'recall_left':recall_left, 'recall_working' : recall_working})\n",
    "model_outcome"
   ]
  },
  {
   "cell_type": "markdown",
   "metadata": {},
   "source": [
    "* If company is aggresive about retaining employees then **DT with SMOTE** model should be chosen. It is classyfying those who are likely to  leave 96% correctly,however it is misclassyfying those employees who will actually not leave in larger number (only 78% correct). So in this case the retention efforts of the company will also apply to considerable number of employees who are actually not going to leave leading to higher effort from HR department and higher cost.\n",
    "\n",
    "\n",
    "* If company wants to retain employees however budget as well as bandwidth of HR department is restricted, then **RF Minimal** model can be chosen. It is classifying those who are likely to  leave 90% correctly while those who are not likely to leave are classified 98% correctly. On top of this, this model is taking only 3 features as input."
   ]
  },
  {
   "cell_type": "markdown",
   "metadata": {},
   "source": [
    "# M. Conclusion "
   ]
  },
  {
   "cell_type": "markdown",
   "metadata": {},
   "source": [
    "### 1. Features impacting attrition\n",
    "\n",
    "- **1. Satisfaction Level** - Majority of employees who left had low satisfaction levels while Majority of employees who are working have relatively higher satisfaction levels. This suggests that employees with lower satisfaction scores are more likely to leave.\n",
    "\n",
    "- **2. Last Evaluation Score** - High attrition observed in employees with last evaluation scores either in the lower range or in the higher range but not in the mid range.\n",
    "\n",
    "- **3. Average Monthly Hours** - High attrition observed in employees with average monthly hours either in the lower range or in the higher range but not in the mid range. Low monthly hours indicate lack of effort which could be due to lack of motivation, disinterest or dissatisfaction which if not addressed leads to quitting. Attrition with high monthly hours could have multiple reasons for leaving like lack of recognition, burnout, better opportunities. This needs to be explored further by discussions with such employees. \n",
    "\n",
    "- **4. Salary** - Highest attrition rate in employees in low salary group followed by medium and high salary groups. At lower salary levels, the compensation plays a major role in an employee's decision to switch. As salary levels increase other factors like company culture, employee recognition, job role start to also come into decision making process in addition to salary. So at higher salary level it migh happen that a person is getting a better offer but he will not switch as he like's current company's culture.\n",
    "\n",
    "- **5. Time Spent in Company** - Attrition is higher in employees with 3-5 years employment period. Lower attrition in higher ranges of employment period, 6 & above years and the lower range around 2 years. \n",
    "\n",
    "- **6. Work accidents**\n",
    "\n",
    "- **7. No. of projects** - None of the employees who left had a promotion in last 5 years.\n",
    "\n",
    "- **8. Promotion in last 5 years**"
   ]
  },
  {
   "cell_type": "markdown",
   "metadata": {},
   "source": [
    "### 2. Features not impacting attrition\n",
    "Department of the employee doesnot have significant impact on attrition. The attrition rate is around 12% in Management & HR departments while for the rest it is between 16% to 19%."
   ]
  },
  {
   "cell_type": "markdown",
   "metadata": {},
   "source": [
    "### 3. Three distinct groups of employees who are likely to leave\n",
    "\n",
    "**The Dissatisfied Star** - Dedicated employee with highest work output in terms quantity, good work quality, but satisfaction level is very low\n",
    "\n",
    "**The Satisfied Performer** - Dedicated employee with decent work output in terms quantity, good work quality, but satisfaction level is high\n",
    "\n",
    "**The Bored One** - Lack of effort with poor work output in terms of both quality and quantity, coupled with low to moderate satisfaction levels.\n",
    "\n"
   ]
  },
  {
   "cell_type": "markdown",
   "metadata": {},
   "source": [
    "### 4. Way forward\n",
    "\n",
    "1. Identify the employees who are likely to leave by using proposed machine learning models\n",
    "\n",
    "2. Identify which of the 3 groups do they fall into.\n",
    "\n",
    "3. Prioritize the HR intervention basis employee position. Usually the cost of recruitment increases with the seniority, skills and experience required. So focus HR efforts accordingly. (Ideal would be to adress all cases if possible).\n",
    "\n",
    "4. For the shortlisted employees / positions, further investigate the potential causes of attrition by holding discusiions with employee as well as the reporting manager and then address the same. Overtime some standard approaches would develop for each group. But at the same time there has to be room for specific interventions as each employees falling in same group could have different motivation & issues.\n",
    "\n",
    "5. The machine learning models are not static. New data needs to be fed into it periodically so that it stays relevant.\n",
    " "
   ]
  },
  {
   "cell_type": "markdown",
   "metadata": {},
   "source": [
    "# END OF FILE"
   ]
  }
 ],
 "metadata": {
  "kernelspec": {
   "display_name": "Python 3",
   "language": "python",
   "name": "python3"
  },
  "language_info": {
   "codemirror_mode": {
    "name": "ipython",
    "version": 3
   },
   "file_extension": ".py",
   "mimetype": "text/x-python",
   "name": "python",
   "nbconvert_exporter": "python",
   "pygments_lexer": "ipython3",
   "version": "3.7.4"
  }
 },
 "nbformat": 4,
 "nbformat_minor": 2
}
